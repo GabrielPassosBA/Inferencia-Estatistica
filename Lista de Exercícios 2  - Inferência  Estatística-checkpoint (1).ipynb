{
 "cells": [
  {
   "cell_type": "markdown",
   "id": "ece50785-c11d-4e32-be12-ab41d11c8765",
   "metadata": {},
   "source": [
    "# Inferência Estatística"
   ]
  },
  {
   "cell_type": "markdown",
   "id": "b521ce3b-4494-4a4e-a4f8-25cc7f8c6898",
   "metadata": {},
   "source": [
    "## 1. Use as suas próprias palavras para responder às questões a seguir:"
   ]
  },
  {
   "cell_type": "markdown",
   "id": "db8b3552-6541-4ad1-a799-f988f8d8b16e",
   "metadata": {},
   "source": [
    "### a. Um estimador é dito mais eficiente se?"
   ]
  },
  {
   "cell_type": "markdown",
   "id": "103065f8-4abf-42cd-96b6-e276342c1ceb",
   "metadata": {},
   "source": [
    "#### Têm se que um estimador é mais eficiente quando ele é capaz de gerar intervalos com menor variância "
   ]
  },
  {
   "cell_type": "markdown",
   "id": "af0a4bc1-ccae-4ba9-a653-f9114ed8ad7e",
   "metadata": {},
   "source": [
    "### b. Como determinamos qual de dois estimadores utilizar através do erro quadrático médio?"
   ]
  },
  {
   "cell_type": "markdown",
   "id": "331b9f09-d9a6-4d10-bf69-73a062e99c1c",
   "metadata": {},
   "source": [
    "#### O erro quadrático médio é uma medida que concilia vício e variância. Quando usamos essa métrica podemos  definir a eficiência relativa de um estimador comparado a outro."
   ]
  },
  {
   "cell_type": "markdown",
   "id": "62309f89-679d-4ba8-9988-2341494aa858",
   "metadata": {},
   "source": [
    "### c. Quais são as propriedades da média amostral que fazem com que ele seja um bom estimador para a média populacional?\r"
   ]
  },
  {
   "cell_type": "markdown",
   "id": "8e6261ba-c115-4593-a539-f6b3fa339923",
   "metadata": {},
   "source": [
    "\n",
    "\r\n",
    "- **Não-viesado**:  \r\n",
    "  A média amostral possui viés zero, ou seja).  \r\n",
    "  Entretanto, se as estimativas forem **muito dispersas** em torno do parâmetro verdadeiro, sua qualidade como estimador pode ser comprometida.\r\n",
    "\r\n",
    "- **Eficiência**:  \r\n",
    "  A média amostral tem a **menor variância** possível entre os estim**adores não-v**esa{n}\r\n",
    "  \\]  \r\n",
    "  Isso a qualifica como um estimador eficiente.\r\n",
    "or "
   ]
  },
  {
   "cell_type": "markdown",
   "id": "4a50ff4a-2c01-494e-8218-a189232af8e1",
   "metadata": {},
   "source": [
    "## 2. Para cada questão abaixo, assinale a alternativa correta;"
   ]
  },
  {
   "cell_type": "markdown",
   "id": "0668eeb1-c8fa-42c8-a56b-3da348010fae",
   "metadata": {},
   "source": [
    "I. \r\n",
    "Em um estudo sobre a média de horas de estudo semanal de estudantes de uma universidade, um pesquisador deseja estimar esse parâmetro populacional. Ele coleta uma amostra aleatória de 100 estudantes e calcula a média amostral, que é 15 horas com um desvio padrão de 3 horas.\r\n",
    "\r\n",
    "Porém, ao fazer uma validação com alguns dos estudantes, ele percebe que a estimativa obtida estava bem abaixo do que deveria ser. Qual é o termo que descreve a tendência do estimador da média amostral de horas de estudo semanal dos estudantes em relação ao verdadeiro valor do parâmetro populacional?\r\n",
    "\r\n",
    "- **a)** Eficiência  \r\n",
    "- **b)** Consistência  \r\n",
    "- **c)** Vício  \r\n",
    "- **d)** Intervalo de confiança  \r\n"
   ]
  },
  {
   "cell_type": "markdown",
   "id": "7b32eae3-457f-4e02-a6cb-d5a08ecf182e",
   "metadata": {},
   "source": [
    "#### c) Vício"
   ]
  },
  {
   "cell_type": "markdown",
   "id": "5bae5381-c6e4-42be-ab64-67d04a4da5f3",
   "metadata": {},
   "source": [
    "II. \r\n",
    "Um departamento de recursos humanos de uma empresa deseja estimar a proporção de funcionários satisfeitos com o ambiente de trabalho. Eles entrevistaram uma amostra aleatória de 300 funcionários e registraram se cada um estava satisfeito ou insatisfeito com o ambiente de trabalho.  \r\n",
    "**Qual método estatístico pode ser utilizado para construir um intervalo de valores para a verdadeira proporção de funcionários satisfeitos na populao?**\r\n",
    "\r\n",
    "- **a)** Método de Momentos  \r\n",
    "- **b)** Intervalo de Confiança  \r\n",
    "- **c)** Estimação Pontual  \r\n",
    "- **d)** Método de Máxima Verossimilhança  \r\n",
    "similhança"
   ]
  },
  {
   "cell_type": "markdown",
   "id": "0d740802-45bf-4751-9dd0-ebca0954ee08",
   "metadata": {},
   "source": [
    "#### b) Intervalo de Confiança."
   ]
  },
  {
   "cell_type": "markdown",
   "id": "4d3f4876-ed14-47a3-81ed-9a6c24f07dbf",
   "metadata": {},
   "source": [
    "## 3. Descreva a diferença entre os métodos de estimação: Momentos e máxima verossimilhança em termos dos cálculos e da intuição do método? Não precisa usar fórmulas."
   ]
  },
  {
   "cell_type": "markdown",
   "id": "17875596-a884-435d-a4ef-c15bddc3067e",
   "metadata": {},
   "source": [
    "#### O método dos momentos é mais intuitivo e fácil, pois ele iguala momentos amostrais, porém não pode ser o estimador mais eficiente em todas as situações, Já o metodo de verossimilhança na maioria das vezes é mais eficiente, entretanto com cálculos mais complexos. A escolha do melhor método depende da base e do ojetivo pretendido.    "
   ]
  },
  {
   "cell_type": "markdown",
   "id": "998773c8-fca9-4577-b712-66bfd7a18509",
   "metadata": {},
   "source": [
    "## 4. Qual o estimador de máxima verossimilhança e de momentos para a distribuição Poisson? \n",
    "\n",
    " \n",
    "(Não precisa fazer as contas, o objetivo é que vocês saibam pesquisar e validar a informação correta na internet ou nos livros).)."
   ]
  },
  {
   "cell_type": "markdown",
   "id": "5a153e2a-e9b3-4815-88ba-779150240977",
   "metadata": {},
   "source": [
    "#### A média amostral. Tanto o método de máxima verossimilhança quanto o método dos momentos resultam no mesmo estimador para o parâmetro λ da distribuição de Poisson"
   ]
  },
  {
   "cell_type": "markdown",
   "id": "da4807ac-8f7f-43e4-9146-417c8859ed5b",
   "metadata": {},
   "source": [
    "## 5. Qual a diferença entre uma estimativa pontual e uma estimativa intervalar?"
   ]
  },
  {
   "cell_type": "markdown",
   "id": "cb5b0e2a-7630-4951-b410-9c27172052b6",
   "metadata": {},
   "source": [
    "#### A estimativa pontual um único valor utilizado para estimar um parâmetro populacional ou ideia geral. Já a estimativa intervalar fornece uma faixa de valores mais precisa e confiável para o parâmetro populacional que depende do nível de precisão e confiança que desejamos para a nossa análise."
   ]
  },
  {
   "cell_type": "markdown",
   "id": "619ff5b3-88af-4ab7-b0f6-ad6ae885fac8",
   "metadata": {},
   "source": [
    "## 6. Uma escola on-line de idiomas preparatória para o TOEFL afirma possuir umaexcelente pontuação média dos seus alunos no exame. Em uma amostra aleatória de 50 alunos, a pontuação média foi de 560 pontos. Por estudos anteriores, sabe-se que o desvio-padrão é 25 pontos. Obtenha os intervalos de confiança com 90%, 95% e 99% de confiança e calcule a amplitude desses intervalos. Explique porque quanto maior a confiança, maior a amplitude do intervalo"
   ]
  },
  {
   "cell_type": "code",
   "execution_count": 5,
   "id": "af0c017e-6844-4c5a-9cf7-9c1dcf14bfa3",
   "metadata": {},
   "outputs": [],
   "source": [
    "import scipy.stats as stats\n",
    "import math\n",
    "\n",
    "media_amostral = 560  \n",
    "desvio_padrao = 25    \n",
    "tamanho_amostra = 50  \n",
    "\n",
    "def intervalo_confianca(media, desvio_padrao, n, confiança):\n",
    "    \n",
    "    z_critical = stats.norm.ppf(1 - (1 - confiança) / 2)\n",
    "    \n",
    "    margem_erro = z_critical * (desvio_padrao / (math.sqrt(n)))\n",
    "    limite_inferior = media - margem_erro\n",
    "    limite_superior = media + margem_erro\n",
    "    \n",
    "    amplitude = limite_superior - limite_inferior\n",
    "    \n",
    "    return limite_inferior, limite_superior, amplitude"
   ]
  },
  {
   "cell_type": "code",
   "execution_count": 6,
   "id": "e88d0223-6451-4549-9fae-4bfdfa904ad9",
   "metadata": {},
   "outputs": [],
   "source": [
    "confiancas = [0.90, 0.95, 0.99]"
   ]
  },
  {
   "cell_type": "code",
   "execution_count": 7,
   "id": "fcc52202-0060-46f8-a2c5-3656761cf452",
   "metadata": {},
   "outputs": [
    {
     "name": "stdout",
     "output_type": "stream",
     "text": [
      "Nível de confiança: 90%\n",
      "Intervalo de confiança: (554.18, 565.82)\n",
      "Amplitude do intervalo: 11.63\n",
      "--------------------------------------------------\n",
      "Nível de confiança: 95%\n",
      "Intervalo de confiança: (553.07, 566.93)\n",
      "Amplitude do intervalo: 13.86\n",
      "--------------------------------------------------\n",
      "Nível de confiança: 99%\n",
      "Intervalo de confiança: (550.89, 569.11)\n",
      "Amplitude do intervalo: 18.21\n",
      "--------------------------------------------------\n"
     ]
    }
   ],
   "source": [
    "for c in confiancas:\n",
    "    limite_inferior, limite_superior, amplitude = intervalo_confianca(media_amostral, desvio_padrao, tamanho_amostra, c)\n",
    "    print(f\"Nível de confiança: {int(c*100)}%\")\n",
    "    print(f\"Intervalo de confiança: ({limite_inferior:.2f}, {limite_superior:.2f})\")\n",
    "    print(f\"Amplitude do intervalo: {amplitude:.2f}\")\n",
    "    print('-' * 50)"
   ]
  },
  {
   "cell_type": "markdown",
   "id": "3014ca66-01f8-43ec-a19d-d5cdf9cc3119",
   "metadata": {},
   "source": [
    "## 7. Para cada um dos exemplos abaixo, defina (8 pts - 2 cada):\n",
    "### a. O parâmetro que estamos estimando. (0.25)\n",
    "### b. O intervalo de confiança (Fórmula) que devemos utilizar. (0.25)\n",
    "### c. As suposições necessárias para utilização do Intervalo de Confiança. (0.5)\n",
    "### d. Calcule o intervalo de 95% e interprete o resultado. (1)"
   ]
  },
  {
   "cell_type": "markdown",
   "id": "5247f2ea-ce58-41c1-87f5-86696aa16e54",
   "metadata": {},
   "source": [
    "### 1. Uma amostra de 30 dias do número de ocorrências policiais em um certo \n",
    "bairro de São Paulo, apresentou os seguintes resultados  \r\n",
    "7 11 8 9 10 14 6 8 8 7 8 10 10 14 12 14 12 9 11 13 13 8 6 8 13 10 14 5 14 e\r\n",
    "10.\r"
   ]
  },
  {
   "cell_type": "markdown",
   "id": "1e2c8116-1ef6-4f0b-833f-38927c89bcb1",
   "metadata": {},
   "source": [
    "#### a. O parâmetro que estamos estimando. \n",
    "**média populacional**\n",
    "#### b. O intervalo de confiança (Fórmula) que devemos utilizar.\n",
    "**x̄ ± zα/2 * (σ / √n)**\n",
    "#### c. As suposições necessárias para utilização do Intervalo de Confiança.\n",
    "**a distribuição dos dados deve ser aproximadamente normal pela sua pequena quantidade de dados**\n"
   ]
  },
  {
   "cell_type": "markdown",
   "id": "d07d39fa-9f44-463f-a052-5aa061eb1eea",
   "metadata": {},
   "source": [
    "#### d. Calcule o intervalo de 95% e interprete o resultado."
   ]
  },
  {
   "cell_type": "code",
   "execution_count": 10,
   "id": "da58b4e0-165b-43bc-bfeb-8d796b7f36e0",
   "metadata": {},
   "outputs": [
    {
     "data": {
      "text/plain": [
       "(9.085858983781396, 11.047474349551937, 1.961615365770541)"
      ]
     },
     "execution_count": 10,
     "metadata": {},
     "output_type": "execute_result"
    }
   ],
   "source": [
    "import numpy as np\n",
    "\n",
    "\n",
    "amostra = [7, 11, 8, 9, 10, 14, 6, 8, 8, 7, 8, 10, 10, 14, 12, 14, 12, 9, 11, 13, 13, 8, 6, 8, 13, 10, 14, 5, 14, 10]\n",
    "\n",
    "n = len(amostra)\n",
    "\n",
    "media_amostral = np.mean(amostra)\n",
    "\n",
    "desvio_padrao_amostral = np.std(amostra, ddof=1)\n",
    "\n",
    "erro_padrao = desvio_padrao_amostral / math.sqrt(n)\n",
    "\n",
    "z_critical = stats.norm.ppf(1 - 0.05 / 2) \n",
    "\n",
    "margem_erro = z_critical * erro_padrao\n",
    "limite_inferior = media_amostral - margem_erro\n",
    "limite_superior = media_amostral + margem_erro\n",
    "amplitude = limite_superior - limite_inferior\n",
    "\n",
    "limite_inferior, limite_superior, amplitude"
   ]
  },
  {
   "cell_type": "markdown",
   "id": "a56e10c7-29db-4141-9d70-8bfda380b4e0",
   "metadata": {},
   "source": [
    "**O intervalo de confiança de 95% tem uma amplitude muito baixa o que se corrobora pelo seu desvio padrão.**"
   ]
  },
  {
   "cell_type": "markdown",
   "id": "b04831aa-5cd6-4ca9-8181-26c54b75c8e9",
   "metadata": {},
   "source": [
    "## 2. Quando o consumidor solicita um crédito, seu nível de crédito é classificado usando um score. Querendo saber o comportamento médio dos scores, utilizou-se uma amostra de pretendentes a empréstimo para compra de carros apresentada abaixo. 661, 595 ,548, 730 ,791, 678, 672 ,491, 492, 583, 762, 624, 769, 729,734,706 Considere que os dados possuem distribuição normal."
   ]
  },
  {
   "cell_type": "markdown",
   "id": "02989eb2-183e-4a97-89d0-4ed5ae6b0d5f",
   "metadata": {},
   "source": [
    "#### a. O parâmetro que estamos estimando. \n",
    "**média populacional**\n",
    "#### b. O intervalo de confiança (Fórmula) que devemos utilizar.\n",
    "**x̄ ± tα/2 * (s / √n)**\n",
    "#### c. As suposições necessárias para utilização do Intervalo de Confiança.\n",
    "**Como os dados seguem uma distribuição normal, podemos aplicar o intervalo de confiança para a média usando a distribuição t de Student.**"
   ]
  },
  {
   "cell_type": "markdown",
   "id": "29929a4d-2b11-4c0b-b38e-1e8a83945c33",
   "metadata": {},
   "source": [
    "#### d. Calcule o intervalo de 95% e interprete o resultado."
   ]
  },
  {
   "cell_type": "code",
   "execution_count": 13,
   "id": "42a4f7e4-f891-45e6-8ac2-e519a03936ae",
   "metadata": {},
   "outputs": [
    {
     "data": {
      "text/plain": [
       "(609.2122404133002, 711.4127595866998, 102.2005191733997)"
      ]
     },
     "execution_count": 13,
     "metadata": {},
     "output_type": "execute_result"
    }
   ],
   "source": [
    "amostra = [661, 595, 548, 730, 791, 678, 672, 491, 492, 583, 762, 624, 769, 729, 734, 706]\n",
    "\n",
    "n = len(amostra)\n",
    "\n",
    "media_amostral = np.mean(amostra)\n",
    "\n",
    "desvio_padrao_amostral = np.std(amostra, ddof=1)\n",
    "\n",
    "erro_padrao = desvio_padrao_amostral / math.sqrt(n)\n",
    "\n",
    "t_critical = stats.t.ppf(1 - 0.05 / 2, df=n-1)\n",
    "\n",
    "margem_erro = t_critical * erro_padrao\n",
    "limite_inferior = media_amostral - margem_erro\n",
    "limite_superior = media_amostral + margem_erro\n",
    "amplitude = limite_superior - limite_inferior\n",
    "\n",
    "limite_inferior, limite_superior, amplitude"
   ]
  },
  {
   "cell_type": "markdown",
   "id": "f2d4045a-5a6e-42a3-8f22-2d6a5b85ccd7",
   "metadata": {},
   "source": [
    "## 3. Para analisar a variação do IMC de uma população, coletou a amostra \n",
    "abaixo \r\n",
    "19.6, 23.8, 19.6, 29.1, 25.2, 21.4, 22, 27.5, 33.5, 20.6, 29.9, 17.7, 24, 28. ,\r\n",
    "37.7, 18.3, 19.8, 29.8, 29.7, 31.7, 23.8, 44.9, 19.2, 28.7, 28.5, 19.3, 31, 25 1,\r\n",
    "22.8, 30.9, 26.5, 21.2, 40.6, 21.9, 26, 23.5, 22.8, 20.7, 20.5,  1.9\r\n",
    "Sabe-se que o IMC possui distribuição normal."
   ]
  },
  {
   "cell_type": "markdown",
   "id": "59962aac-f85d-4b9d-abb7-7b0d831770e6",
   "metadata": {},
   "source": [
    "#### a. O parâmetro que estamos estimando. \n",
    "**média populacional**\n",
    "#### b. O intervalo de confiança (Fórmula) que devemos utilizar.\n",
    "**x̄ ± tα/2 * (s / √n)**\n",
    "#### c. As suposições necessárias para utilização do Intervalo de Confiança.\n",
    "**Sabemos que o IMC tem distribuição normal**"
   ]
  },
  {
   "cell_type": "markdown",
   "id": "41f2c651-f6db-4a5c-89f2-7b1c9c684219",
   "metadata": {},
   "source": [
    "#### d. Calcule o intervalo de 95% e interprete o resultado."
   ]
  },
  {
   "cell_type": "code",
   "execution_count": 14,
   "id": "42ec55fa-341c-4e8b-a320-04632f07a1c3",
   "metadata": {},
   "outputs": [
    {
     "data": {
      "text/plain": [
       "(23.76815498280887, 27.711845017191127, 3.943690034382257)"
      ]
     },
     "execution_count": 14,
     "metadata": {},
     "output_type": "execute_result"
    }
   ],
   "source": [
    "amostra_imc = [19.6, 23.8, 19.6, 29.1, 25.2, 21.4, 22, 27.5, 33.5, 20.6, 29.9, 17.7, \n",
    "               24, 28.9, 37.7, 18.3, 19.8, 29.8, 29.7, 31.7, 23.8, 44.9, 19.2, 28.7, \n",
    "               28.5, 19.3, 31, 25.1, 22.8, 30.9, 26.5, 21.2, 40.6, 21.9, 26, 23.5, \n",
    "               22.8, 20.7, 20.5, 21.9]\n",
    "\n",
    "n = len(amostra_imc)\n",
    "\n",
    "media_amostral = np.mean(amostra_imc)\n",
    "\n",
    "desvio_padrao_amostral = np.std(amostra_imc, ddof=1)\n",
    "\n",
    "erro_padrao = desvio_padrao_amostral / math.sqrt(n)\n",
    "\n",
    "t_critical = stats.t.ppf(1 - 0.05 / 2, df=n-1)\n",
    "\n",
    "margem_erro = t_critical * erro_padrao\n",
    "limite_inferior = media_amostral - margem_erro\n",
    "limite_superior = media_amostral + margem_erro\n",
    "amplitude = limite_superior - limite_inferior\n",
    "\n",
    "limite_inferior, limite_superior, amplitude"
   ]
  },
  {
   "cell_type": "markdown",
   "id": "e07c7d7b-2688-4628-933c-021153edec70",
   "metadata": {},
   "source": [
    "## 4. Por analogia de produtos similares, o tempo de reação de um novo \n",
    "medicamento pode ser considerado como tendo uma distribuição norma \r\n",
    "com desvio padrão igual a 2 minutos. 20 pacientes foram sorteado ,\r\n",
    "receberam medicamento e tiveram seu tempo de reação anota o.\r\n",
    "Queremos estimar o tempo médio de reação do novo medicame to.\r\n",
    "Os dados foram os seguintes: 2.9, 3.4, 3.5, 4.1, 4.6, 4.7, 4.5, 3.8, 5.3, 4.9,\r\n",
    "4.8, 5.7, 5.8, 5.0, 3.4, 5.9, 6.3, 4.6, 5.5, 6.2"
   ]
  },
  {
   "cell_type": "markdown",
   "id": "93a36ec6-531d-4eee-9daf-0ed3a09eb0ff",
   "metadata": {},
   "source": [
    "#### a. O parâmetro que estamos estimando. \n",
    "**média populacional**\n",
    "#### b. O intervalo de confiança (Fórmula) que devemos utilizar.\n",
    "**x̄ ± zα/2 * (σ / √n)**\n",
    "#### c. As suposições necessárias para utilização do Intervalo de Confiança.\n",
    "**O tempo de reação segue uma distribuição normal**"
   ]
  },
  {
   "cell_type": "markdown",
   "id": "9c19ee65-bc70-45da-a9dd-7f4a7fc82b11",
   "metadata": {},
   "source": [
    "#### d. Calcule o intervalo de 95% e interprete o resultado."
   ]
  },
  {
   "cell_type": "code",
   "execution_count": 15,
   "id": "02722785-7985-434c-bf4d-549d033f9481",
   "metadata": {},
   "outputs": [
    {
     "data": {
      "text/plain": [
       "(3.8684613528200824, 5.621538647179918, 1.7530772943598354)"
      ]
     },
     "execution_count": 15,
     "metadata": {},
     "output_type": "execute_result"
    }
   ],
   "source": [
    "dados = [2.9, 3.4, 3.5, 4.1, 4.6, 4.7, 4.5, 3.8, 5.3, 4.9, 4.8, 5.7, \n",
    "         5.8, 5.0, 3.4, 5.9, 6.3, 4.6, 5.5, 6.2]\n",
    "\n",
    "n = len(dados)\n",
    "\n",
    "media_amostral = np.mean(dados)\n",
    "\n",
    "desvio_padrao_populacional = 2\n",
    "\n",
    "erro_padrao = desvio_padrao_populacional / math.sqrt(n)\n",
    "\n",
    "z_critical = 1.96  \n",
    "\n",
    "margem_erro = z_critical * erro_padrao\n",
    "limite_inferior = media_amostral - margem_erro\n",
    "limite_superior = media_amostral + margem_erro\n",
    "amplitude = limite_superior - limite_inferior\n",
    "\n",
    "limite_inferior, limite_superior, amplitude"
   ]
  }
 ],
 "metadata": {
  "kernelspec": {
   "display_name": "Python 3 (ipykernel)",
   "language": "python",
   "name": "python3"
  },
  "language_info": {
   "codemirror_mode": {
    "name": "ipython",
    "version": 3
   },
   "file_extension": ".py",
   "mimetype": "text/x-python",
   "name": "python",
   "nbconvert_exporter": "python",
   "pygments_lexer": "ipython3",
   "version": "3.11.7"
  }
 },
 "nbformat": 4,
 "nbformat_minor": 5
}
