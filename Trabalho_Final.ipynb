{
 "cells": [
  {
   "cell_type": "markdown",
   "id": "a17dd62c-f2be-4b5f-87f7-0a02713f9725",
   "metadata": {},
   "source": [
    "## Importar Bibliotecas"
   ]
  },
  {
   "cell_type": "code",
   "execution_count": 64,
   "id": "8c9de201-f874-4b3e-bd59-8d2372fd36f2",
   "metadata": {},
   "outputs": [],
   "source": [
    "import pandas as pd\n",
    "import numpy as np \n",
    "import seaborn as sns \n",
    "import math \n",
    "from scipy.stats import ttest_ind\n",
    "from scipy.stats import chi2_contingency\n",
    "from statsmodels.stats.multitest import multipletests\n",
    "import scipy.stats as stats\n",
    "import pingouin as pg\n",
    "from scipy.stats import levene\n",
    "import statsmodels.api as sm\n",
    "from statsmodels.formula.api import ols\n",
    "import matplotlib.pyplot as plt"
   ]
  },
  {
   "cell_type": "markdown",
   "id": "e3a0d20d-b53d-4cec-a27f-0df8757db382",
   "metadata": {},
   "source": [
    "## 1."
   ]
  },
  {
   "cell_type": "markdown",
   "id": "b1d4f405-3375-42fc-9bd4-d546c31469be",
   "metadata": {},
   "source": [
    "O TOC, ou Transtorno Obsessivo-Compulsivo, é um distúrbio psiquiátrico\n",
    "caracterizado pela presença de obsessões e compulsões. As obsessões são\n",
    "pensamentos, imagens ou impulsos indesejados e intrusivos que causam\n",
    "ansiedade significativa. Já as compulsões são comportamentos repetitivos\n",
    "que uma pessoa se sente compelida a realizar como uma resposta para\n",
    "aliviar a ansiedade associada às obsessões. \n",
    "O Y-BOCS, ou Yale-Brown Obsessive Compulsive Scale (Escala Yale-Brown\n",
    "para Transtorno Obsessivo-Compulsivo), é uma ferramenta de avaliação\n",
    "desenvolvida para medir a gravidade dos sintomas em pessoas com TOC.\n",
    "Essa escala é dividida em duas partes: uma para avaliar as obsessões e\n",
    "outra para avaliar as compulsões.\n",
    "A base de dados estruturada “ocd_patient_dataset.csv” é um conjunto de\n",
    "dados de pacientes com TOC que possui dados demográficos e clínicos que\n",
    "contém informações abrangentes sobre 1.500 indivíduos com diagnóstico de\n",
    "transtorno obsessivo-compulsivo (TOC). Observação: o conjunto de dados é\n",
    "inteiramente fictício e não deve ser usado para quaisquer fins clínicos ou de\n",
    "pesquisa reais.\n",
    "Use um nível de significância de 5% para testar a afirmativa de que\n",
    "existe diferença no Score (Pontuação) Y-BOCS (Obsessões) entre\n",
    "pacientes dos sexo feminino e masculino. Com base neste resultado,\n",
    "podemos concluir que existe diferença?\n",
    "Informações extras: Pontuação Y-BOCS para Obsessões:\n",
    "A pontuação da parte de obsessões do Y-BOCS avalia a gravidade das\n",
    "obsessões em termos de tempo gasto, interferência nas atividades diárias,\n",
    "angústia causada pelas obsessões e resistência em controlá-las. A\n",
    "pontuação total para obsessões varia de 0 a 40, sendo uma pontuação mais\n",
    "alta indicativa de sintomas mais graves.\n",
    "0 a 7: Sintomas leves a moderados.\n",
    "8 a 15: Sintomas moderados a graves.\n",
    "16 a 40: Sintomas graves a extremamente graves.\n",
    "Use as colunas:\n",
    "(Y-BOCS Score (Obsessions) - Score de obsessão e Gender - sexo)."
   ]
  },
  {
   "cell_type": "code",
   "execution_count": 65,
   "id": "087076ed-9db8-4694-9a4e-562407e2368c",
   "metadata": {},
   "outputs": [
    {
     "data": {
      "text/html": [
       "<div>\n",
       "<style scoped>\n",
       "    .dataframe tbody tr th:only-of-type {\n",
       "        vertical-align: middle;\n",
       "    }\n",
       "\n",
       "    .dataframe tbody tr th {\n",
       "        vertical-align: top;\n",
       "    }\n",
       "\n",
       "    .dataframe thead th {\n",
       "        text-align: right;\n",
       "    }\n",
       "</style>\n",
       "<table border=\"1\" class=\"dataframe\">\n",
       "  <thead>\n",
       "    <tr style=\"text-align: right;\">\n",
       "      <th></th>\n",
       "      <th>Patient ID</th>\n",
       "      <th>Age</th>\n",
       "      <th>Gender</th>\n",
       "      <th>Ethnicity</th>\n",
       "      <th>Marital Status</th>\n",
       "      <th>Education Level</th>\n",
       "      <th>OCD Diagnosis Date</th>\n",
       "      <th>Duration of Symptoms (months)</th>\n",
       "      <th>Previous Diagnoses</th>\n",
       "      <th>Family History of OCD</th>\n",
       "      <th>Obsession Type</th>\n",
       "      <th>Compulsion Type</th>\n",
       "      <th>Y-BOCS Score (Obsessions)</th>\n",
       "      <th>Y-BOCS Score (Compulsions)</th>\n",
       "      <th>Depression Diagnosis</th>\n",
       "      <th>Anxiety Diagnosis</th>\n",
       "      <th>Medications</th>\n",
       "    </tr>\n",
       "  </thead>\n",
       "  <tbody>\n",
       "    <tr>\n",
       "      <th>0</th>\n",
       "      <td>1018</td>\n",
       "      <td>32</td>\n",
       "      <td>Female</td>\n",
       "      <td>African</td>\n",
       "      <td>Single</td>\n",
       "      <td>Some College</td>\n",
       "      <td>2016-07-15</td>\n",
       "      <td>203</td>\n",
       "      <td>MDD</td>\n",
       "      <td>No</td>\n",
       "      <td>Harm-related</td>\n",
       "      <td>Checking</td>\n",
       "      <td>17</td>\n",
       "      <td>10</td>\n",
       "      <td>Yes</td>\n",
       "      <td>Yes</td>\n",
       "      <td>SNRI</td>\n",
       "    </tr>\n",
       "    <tr>\n",
       "      <th>1</th>\n",
       "      <td>2406</td>\n",
       "      <td>69</td>\n",
       "      <td>Male</td>\n",
       "      <td>African</td>\n",
       "      <td>Divorced</td>\n",
       "      <td>Some College</td>\n",
       "      <td>2017-04-28</td>\n",
       "      <td>180</td>\n",
       "      <td>NaN</td>\n",
       "      <td>Yes</td>\n",
       "      <td>Harm-related</td>\n",
       "      <td>Washing</td>\n",
       "      <td>21</td>\n",
       "      <td>25</td>\n",
       "      <td>Yes</td>\n",
       "      <td>Yes</td>\n",
       "      <td>SSRI</td>\n",
       "    </tr>\n",
       "    <tr>\n",
       "      <th>2</th>\n",
       "      <td>1188</td>\n",
       "      <td>57</td>\n",
       "      <td>Male</td>\n",
       "      <td>Hispanic</td>\n",
       "      <td>Divorced</td>\n",
       "      <td>College Degree</td>\n",
       "      <td>2018-02-02</td>\n",
       "      <td>173</td>\n",
       "      <td>MDD</td>\n",
       "      <td>No</td>\n",
       "      <td>Contamination</td>\n",
       "      <td>Checking</td>\n",
       "      <td>3</td>\n",
       "      <td>4</td>\n",
       "      <td>No</td>\n",
       "      <td>No</td>\n",
       "      <td>Benzodiazepine</td>\n",
       "    </tr>\n",
       "    <tr>\n",
       "      <th>3</th>\n",
       "      <td>6200</td>\n",
       "      <td>27</td>\n",
       "      <td>Female</td>\n",
       "      <td>Hispanic</td>\n",
       "      <td>Married</td>\n",
       "      <td>College Degree</td>\n",
       "      <td>2014-08-25</td>\n",
       "      <td>126</td>\n",
       "      <td>PTSD</td>\n",
       "      <td>Yes</td>\n",
       "      <td>Symmetry</td>\n",
       "      <td>Washing</td>\n",
       "      <td>14</td>\n",
       "      <td>28</td>\n",
       "      <td>Yes</td>\n",
       "      <td>Yes</td>\n",
       "      <td>SSRI</td>\n",
       "    </tr>\n",
       "    <tr>\n",
       "      <th>4</th>\n",
       "      <td>5824</td>\n",
       "      <td>56</td>\n",
       "      <td>Female</td>\n",
       "      <td>Hispanic</td>\n",
       "      <td>Married</td>\n",
       "      <td>High School</td>\n",
       "      <td>2022-02-20</td>\n",
       "      <td>168</td>\n",
       "      <td>PTSD</td>\n",
       "      <td>Yes</td>\n",
       "      <td>Hoarding</td>\n",
       "      <td>Ordering</td>\n",
       "      <td>39</td>\n",
       "      <td>18</td>\n",
       "      <td>No</td>\n",
       "      <td>No</td>\n",
       "      <td>NaN</td>\n",
       "    </tr>\n",
       "  </tbody>\n",
       "</table>\n",
       "</div>"
      ],
      "text/plain": [
       "   Patient ID  Age  Gender Ethnicity Marital Status Education Level  \\\n",
       "0        1018   32  Female   African         Single    Some College   \n",
       "1        2406   69    Male   African       Divorced    Some College   \n",
       "2        1188   57    Male  Hispanic       Divorced  College Degree   \n",
       "3        6200   27  Female  Hispanic        Married  College Degree   \n",
       "4        5824   56  Female  Hispanic        Married     High School   \n",
       "\n",
       "  OCD Diagnosis Date  Duration of Symptoms (months) Previous Diagnoses  \\\n",
       "0         2016-07-15                            203                MDD   \n",
       "1         2017-04-28                            180                NaN   \n",
       "2         2018-02-02                            173                MDD   \n",
       "3         2014-08-25                            126               PTSD   \n",
       "4         2022-02-20                            168               PTSD   \n",
       "\n",
       "  Family History of OCD Obsession Type Compulsion Type  \\\n",
       "0                    No   Harm-related        Checking   \n",
       "1                   Yes   Harm-related         Washing   \n",
       "2                    No  Contamination        Checking   \n",
       "3                   Yes       Symmetry         Washing   \n",
       "4                   Yes       Hoarding        Ordering   \n",
       "\n",
       "   Y-BOCS Score (Obsessions)  Y-BOCS Score (Compulsions) Depression Diagnosis  \\\n",
       "0                         17                          10                  Yes   \n",
       "1                         21                          25                  Yes   \n",
       "2                          3                           4                   No   \n",
       "3                         14                          28                  Yes   \n",
       "4                         39                          18                   No   \n",
       "\n",
       "  Anxiety Diagnosis     Medications  \n",
       "0               Yes            SNRI  \n",
       "1               Yes            SSRI  \n",
       "2                No  Benzodiazepine  \n",
       "3               Yes            SSRI  \n",
       "4                No             NaN  "
      ]
     },
     "execution_count": 65,
     "metadata": {},
     "output_type": "execute_result"
    }
   ],
   "source": [
    "df = pd.read_csv('ocd_patient_dataset.csv')\n",
    "df.head()"
   ]
  },
  {
   "cell_type": "code",
   "execution_count": 66,
   "id": "78990dce-a74e-4ca3-85ef-673ce48204fa",
   "metadata": {},
   "outputs": [
    {
     "data": {
      "image/png": "[encoded data removed]",
      "text/plain": [
       "<Figure size 640x480 with 1 Axes>"
      ]
     },
     "metadata": {},
     "output_type": "display_data"
    }
   ],
   "source": [
    "sns.boxplot(data=df, x='Y-BOCS Score (Obsessions)');"
   ]
  },
  {
   "cell_type": "code",
   "execution_count": 4,
   "id": "eba752b1-f9dd-479e-8a89-0f9ac874e7af",
   "metadata": {},
   "outputs": [],
   "source": [
    "female_scores = df[df['Gender'] == 'Female']['Y-BOCS Score (Obsessions)']\n",
    "male_scores = df[df['Gender'] == 'Male']['Y-BOCS Score (Obsessions)']"
   ]
  },
  {
   "cell_type": "code",
   "execution_count": 7,
   "id": "f8d548a9-5707-4bf6-89a6-6218cc252ddc",
   "metadata": {},
   "outputs": [],
   "source": [
    "t_stat, p_value = ttest_ind(female_scores, male_scores, equal_var=False) "
   ]
  },
  {
   "cell_type": "code",
   "execution_count": 8,
   "id": "7408be7b-b305-4bbb-98d7-72d2c65533bb",
   "metadata": {},
   "outputs": [
    {
     "name": "stdout",
     "output_type": "stream",
     "text": [
      "Estatística t: 0.4809595684423659\n",
      "Valor p: 0.6306154799974397\n"
     ]
    }
   ],
   "source": [
    "print(\"Estatística t:\", t_stat)\n",
    "print(\"Valor p:\", p_value)"
   ]
  },
  {
   "cell_type": "code",
   "execution_count": 9,
   "id": "38ac8384-7ae6-4528-9796-b5e35a3cd114",
   "metadata": {},
   "outputs": [
    {
     "name": "stdout",
     "output_type": "stream",
     "text": [
      "Conclusão: Não há evidência de diferença estatisticamente significativa nos scores Y-BOCS (Obsessões) entre os gêneros.\n"
     ]
    }
   ],
   "source": [
    "if p_value < 0.05:\n",
    "    print(\"Conclusão: Existe uma diferença estatisticamente significativa nos scores Y-BOCS (Obsessões) entre os gêneros.\")\n",
    "else:\n",
    "    print(\"Conclusão: Não há evidência de diferença estatisticamente significativa nos scores Y-BOCS (Obsessões) entre os gêneros.\")"
   ]
  },
  {
   "cell_type": "markdown",
   "id": "b5c60599-d0cf-44e0-bf2a-28efced02a2d",
   "metadata": {},
   "source": [
    "## 2."
   ]
  },
  {
   "cell_type": "markdown",
   "id": "97025306-8208-465c-a1e3-4c319187c840",
   "metadata": {},
   "source": [
    "O conjunto de dados “Sleep_health_and_lifestyle_dataset.csv”\n",
    "compreende 400 linhas e 13 colunas, cobrindo uma ampla gama de variáveis\n",
    "relacionadas ao sono e hábitos diários. Inclui detalhes como sexo, idade,\n",
    "ocupação, duração do sono, qualidade do sono, nível de atividade física,\n",
    "níveis de estresse, categoria de IMC, pressão arterial, frequência cardíaca,\n",
    "passos diários e presença ou ausência do distúrbio do sono (Insônia).\n",
    "O nosso objetivo é avaliar se existe diferença na proporção de pessoas\n",
    "que possuem ou não o distúrbio do sono (Insônia) para as diferenças\n",
    "ocupações na base de dados. Use o nível de significância de 5% e caso\n",
    "encontre diferenças, relate em quais das ocupações vemos essa diferença\n",
    "significativa.\n",
    "Use as colunas: (Occupation - ocupação e Sleep Disorder - Distúrbio do\n",
    "sono (Insônia ou não)."
   ]
  },
  {
   "cell_type": "code",
   "execution_count": 74,
   "id": "c9ab6dd0-e5e7-4074-a486-3ffc9558cb63",
   "metadata": {},
   "outputs": [
    {
     "data": {
      "text/html": [
       "<div>\n",
       "<style scoped>\n",
       "    .dataframe tbody tr th:only-of-type {\n",
       "        vertical-align: middle;\n",
       "    }\n",
       "\n",
       "    .dataframe tbody tr th {\n",
       "        vertical-align: top;\n",
       "    }\n",
       "\n",
       "    .dataframe thead th {\n",
       "        text-align: right;\n",
       "    }\n",
       "</style>\n",
       "<table border=\"1\" class=\"dataframe\">\n",
       "  <thead>\n",
       "    <tr style=\"text-align: right;\">\n",
       "      <th></th>\n",
       "      <th>Person ID</th>\n",
       "      <th>Gender</th>\n",
       "      <th>Age</th>\n",
       "      <th>Occupation</th>\n",
       "      <th>Sleep Duration</th>\n",
       "      <th>Quality of Sleep</th>\n",
       "      <th>Physical Activity Level</th>\n",
       "      <th>Stress Level</th>\n",
       "      <th>BMI Category</th>\n",
       "      <th>Blood Pressure</th>\n",
       "      <th>Heart Rate</th>\n",
       "      <th>Daily Steps</th>\n",
       "      <th>Sleep Disorder</th>\n",
       "    </tr>\n",
       "  </thead>\n",
       "  <tbody>\n",
       "    <tr>\n",
       "      <th>0</th>\n",
       "      <td>2</td>\n",
       "      <td>Male</td>\n",
       "      <td>28</td>\n",
       "      <td>Doctor</td>\n",
       "      <td>6.2</td>\n",
       "      <td>6</td>\n",
       "      <td>60</td>\n",
       "      <td>8</td>\n",
       "      <td>Normal</td>\n",
       "      <td>125/80</td>\n",
       "      <td>75</td>\n",
       "      <td>10000</td>\n",
       "      <td>No</td>\n",
       "    </tr>\n",
       "    <tr>\n",
       "      <th>1</th>\n",
       "      <td>3</td>\n",
       "      <td>Male</td>\n",
       "      <td>28</td>\n",
       "      <td>Doctor</td>\n",
       "      <td>6.2</td>\n",
       "      <td>6</td>\n",
       "      <td>60</td>\n",
       "      <td>8</td>\n",
       "      <td>Normal</td>\n",
       "      <td>125/80</td>\n",
       "      <td>75</td>\n",
       "      <td>10000</td>\n",
       "      <td>No</td>\n",
       "    </tr>\n",
       "    <tr>\n",
       "      <th>2</th>\n",
       "      <td>7</td>\n",
       "      <td>Male</td>\n",
       "      <td>29</td>\n",
       "      <td>Teacher</td>\n",
       "      <td>6.3</td>\n",
       "      <td>6</td>\n",
       "      <td>40</td>\n",
       "      <td>7</td>\n",
       "      <td>Obese</td>\n",
       "      <td>140/90</td>\n",
       "      <td>82</td>\n",
       "      <td>3500</td>\n",
       "      <td>Insomnia</td>\n",
       "    </tr>\n",
       "    <tr>\n",
       "      <th>3</th>\n",
       "      <td>8</td>\n",
       "      <td>Male</td>\n",
       "      <td>29</td>\n",
       "      <td>Doctor</td>\n",
       "      <td>7.8</td>\n",
       "      <td>7</td>\n",
       "      <td>75</td>\n",
       "      <td>6</td>\n",
       "      <td>Normal</td>\n",
       "      <td>120/80</td>\n",
       "      <td>70</td>\n",
       "      <td>8000</td>\n",
       "      <td>No</td>\n",
       "    </tr>\n",
       "    <tr>\n",
       "      <th>4</th>\n",
       "      <td>9</td>\n",
       "      <td>Male</td>\n",
       "      <td>29</td>\n",
       "      <td>Doctor</td>\n",
       "      <td>7.8</td>\n",
       "      <td>7</td>\n",
       "      <td>75</td>\n",
       "      <td>6</td>\n",
       "      <td>Normal</td>\n",
       "      <td>120/80</td>\n",
       "      <td>70</td>\n",
       "      <td>8000</td>\n",
       "      <td>No</td>\n",
       "    </tr>\n",
       "  </tbody>\n",
       "</table>\n",
       "</div>"
      ],
      "text/plain": [
       "   Person ID Gender  Age Occupation  Sleep Duration  Quality of Sleep  \\\n",
       "0          2   Male   28     Doctor             6.2                 6   \n",
       "1          3   Male   28     Doctor             6.2                 6   \n",
       "2          7   Male   29    Teacher             6.3                 6   \n",
       "3          8   Male   29     Doctor             7.8                 7   \n",
       "4          9   Male   29     Doctor             7.8                 7   \n",
       "\n",
       "   Physical Activity Level  Stress Level BMI Category Blood Pressure  \\\n",
       "0                       60             8       Normal         125/80   \n",
       "1                       60             8       Normal         125/80   \n",
       "2                       40             7        Obese         140/90   \n",
       "3                       75             6       Normal         120/80   \n",
       "4                       75             6       Normal         120/80   \n",
       "\n",
       "   Heart Rate  Daily Steps Sleep Disorder  \n",
       "0          75        10000             No  \n",
       "1          75        10000             No  \n",
       "2          82         3500       Insomnia  \n",
       "3          70         8000             No  \n",
       "4          70         8000             No  "
      ]
     },
     "execution_count": 74,
     "metadata": {},
     "output_type": "execute_result"
    }
   ],
   "source": [
    "# Carregar o conjunto de dados\n",
    "data_path = 'Sleep_health_and_lifestyle_dataset.csv'\n",
    "df = pd.read_csv(data_path)\n",
    "df.head()"
   ]
  },
  {
   "cell_type": "code",
   "execution_count": 75,
   "id": "aabc9abc-2382-48a9-a827-06c03ba44403",
   "metadata": {},
   "outputs": [
    {
     "data": {
      "text/plain": [
       "Person ID                  0\n",
       "Gender                     0\n",
       "Age                        0\n",
       "Occupation                 0\n",
       "Sleep Duration             0\n",
       "Quality of Sleep           0\n",
       "Physical Activity Level    0\n",
       "Stress Level               0\n",
       "BMI Category               0\n",
       "Blood Pressure             0\n",
       "Heart Rate                 0\n",
       "Daily Steps                0\n",
       "Sleep Disorder             0\n",
       "dtype: int64"
      ]
     },
     "execution_count": 75,
     "metadata": {},
     "output_type": "execute_result"
    }
   ],
   "source": [
    "df.isnull().sum()"
   ]
  },
  {
   "cell_type": "code",
   "execution_count": 77,
   "id": "4ecc7260-9b59-4a5a-916c-f78cc4b0c46d",
   "metadata": {},
   "outputs": [
    {
     "data": {
      "image/png": "[encoded data removed]",
      "text/plain": [
       "<Figure size 640x480 with 1 Axes>"
      ]
     },
     "metadata": {},
     "output_type": "display_data"
    }
   ],
   "source": [
    "sns.countplot(data=df, x='Occupation');"
   ]
  },
  {
   "cell_type": "code",
   "execution_count": 79,
   "id": "da11c657-e377-40fe-815d-16d66dd17dee",
   "metadata": {},
   "outputs": [
    {
     "data": {
      "image/png": "[encoded data removed]",
      "text/plain": [
       "<Figure size 640x480 with 1 Axes>"
      ]
     },
     "metadata": {},
     "output_type": "display_data"
    }
   ],
   "source": [
    "sns.countplot(data=df, x='Sleep Disorder');"
   ]
  },
  {
   "cell_type": "code",
   "execution_count": 80,
   "id": "b08594dd-f22e-4bb6-aff9-d43f5961ccb8",
   "metadata": {},
   "outputs": [
    {
     "name": "stdout",
     "output_type": "stream",
     "text": [
      "Tabela de Contingência:\n",
      "Sleep Disorder  Insomnia  No\n",
      "Occupation                  \n",
      "Accountant             7  30\n",
      "Doctor                 3  64\n",
      "Engineer               5  57\n",
      "Lawyer                 2  42\n",
      "Nurse                  3   9\n",
      "Salesperson           29   2\n",
      "Teacher               27   9\n",
      "Teste Qui-Quadrado:\n",
      "Estatística Qui-Quadrado: 155.27672811256065\n",
      "Valor p: 5.9210138109735935e-31\n",
      "Há uma associação significativa entre ocupação e distúrbio do sono.\n",
      "Resultados da análise post hoc:\n",
      "Diferença significativa entre Accountant e Salesperson (p corrigido = 0.0000).\n",
      "Diferença significativa entre Accountant e Teacher (p corrigido = 0.0000).\n",
      "Diferença significativa entre Doctor e Salesperson (p corrigido = 0.0000).\n",
      "Diferença significativa entre Doctor e Teacher (p corrigido = 0.0000).\n",
      "Diferença significativa entre Engineer e Salesperson (p corrigido = 0.0000).\n",
      "Diferença significativa entre Engineer e Teacher (p corrigido = 0.0000).\n",
      "Diferença significativa entre Lawyer e Salesperson (p corrigido = 0.0000).\n",
      "Diferença significativa entre Lawyer e Teacher (p corrigido = 0.0000).\n",
      "Diferença significativa entre Nurse e Salesperson (p corrigido = 0.0001).\n",
      "Diferença significativa entre Nurse e Teacher (p corrigido = 0.0124).\n"
     ]
    }
   ],
   "source": [
    "table = pd.crosstab(df['Occupation'], df['Sleep Disorder'])\n",
    "\n",
    "print(\"Tabela de Contingência:\")\n",
    "print(table)\n",
    "\n",
    "chi2, p, dof, expected = chi2_contingency(table)\n",
    "\n",
    "print(\"Teste Qui-Quadrado:\")\n",
    "print(f\"Estatística Qui-Quadrado: {chi2}\")\n",
    "print(f\"Valor p: {p}\")\n",
    "\n",
    "alpha = 0.05\n",
    "if p < alpha:\n",
    "    print(\"Há uma associação significativa entre ocupação e distúrbio do sono.\")\n",
    "\n",
    "    from itertools import combinations\n",
    "\n",
    "    results = []\n",
    "    occupations = table.index\n",
    "    for occ1, occ2 in combinations(occupations, 2):\n",
    "        sub_table = table.loc[[occ1, occ2]]\n",
    "        chi2_pair, p_pair, _, _ = chi2_contingency(sub_table)\n",
    "        results.append((occ1, occ2, p_pair))\n",
    "\n",
    "    p_values = [result[2] for result in results]\n",
    "    _, corrected_p_values, _, _ = multipletests(p_values, method='fdr_bh')\n",
    "\n",
    "    print(\"Resultados da análise post hoc:\")\n",
    "    for (occ1, occ2, p_pair), corrected_p in zip(results, corrected_p_values):\n",
    "        if corrected_p < alpha:\n",
    "            print(f\"Diferença significativa entre {occ1} e {occ2} (p corrigido = {corrected_p:.4f}).\")\n",
    "else:\n",
    "    print(\"Não há associação significativa entre ocupação e distúrbio do sono.\")"
   ]
  },
  {
   "cell_type": "markdown",
   "id": "3e87bd98-8d64-465e-ba39-e1a02b612493",
   "metadata": {},
   "source": [
    "## 3. "
   ]
  },
  {
   "cell_type": "markdown",
   "id": "0f8947b6-5fee-4b44-ad15-3a85ddabc238",
   "metadata": {},
   "source": [
    "Uma empresa de tecnologia está constantemente analisando o mercado e\n",
    "buscando novas formas de converter os clientes (fechar contratos).\n",
    "Pensando nisso, ela investiu em uma empresa de treinamento de vendedores\n",
    "(VendaPro Academy) que diz que o seu método de vendas é superior aos\n",
    "métodos convencionais. Para verificar essa hipótese, a empresa de\n",
    "tecnologia vai avaliar o desempenho dos funcionários.\n",
    "Vamos comparar o desempenho de 35 vendedores ao utilizar o método\n",
    "convencional de vendas e o método obtido pelo treinamento com a empresa\n",
    "VendaPro Academy, medindo o tempo de trabalho em horas necessário\n",
    "para alcançar uma meta de 10 contratos vendidos. Os dados estão na\n",
    "base de dados “treinamentoVendedores.csv”. Determine ao nível de 2% de\n",
    "significância, se o método da empresa VendaPro Academy é realmente\n",
    "superior ao método convencional da empresa.\n"
   ]
  },
  {
   "cell_type": "code",
   "execution_count": 88,
   "id": "9703b1a7-bcfd-4711-ba3b-a035208f8ab5",
   "metadata": {},
   "outputs": [
    {
     "data": {
      "text/html": [
       "<div>\n",
       "<style scoped>\n",
       "    .dataframe tbody tr th:only-of-type {\n",
       "        vertical-align: middle;\n",
       "    }\n",
       "\n",
       "    .dataframe tbody tr th {\n",
       "        vertical-align: top;\n",
       "    }\n",
       "\n",
       "    .dataframe thead th {\n",
       "        text-align: right;\n",
       "    }\n",
       "</style>\n",
       "<table border=\"1\" class=\"dataframe\">\n",
       "  <thead>\n",
       "    <tr style=\"text-align: right;\">\n",
       "      <th></th>\n",
       "      <th>Funcionário</th>\n",
       "      <th>Convencional</th>\n",
       "      <th>VendaPro</th>\n",
       "    </tr>\n",
       "  </thead>\n",
       "  <tbody>\n",
       "    <tr>\n",
       "      <th>0</th>\n",
       "      <td>1</td>\n",
       "      <td>52.483571</td>\n",
       "      <td>38.895782</td>\n",
       "    </tr>\n",
       "    <tr>\n",
       "      <th>1</th>\n",
       "      <td>2</td>\n",
       "      <td>49.308678</td>\n",
       "      <td>46.044318</td>\n",
       "    </tr>\n",
       "    <tr>\n",
       "      <th>2</th>\n",
       "      <td>3</td>\n",
       "      <td>53.238443</td>\n",
       "      <td>35.201649</td>\n",
       "    </tr>\n",
       "    <tr>\n",
       "      <th>3</th>\n",
       "      <td>4</td>\n",
       "      <td>57.615149</td>\n",
       "      <td>38.359070</td>\n",
       "    </tr>\n",
       "    <tr>\n",
       "      <th>4</th>\n",
       "      <td>5</td>\n",
       "      <td>48.829233</td>\n",
       "      <td>45.984306</td>\n",
       "    </tr>\n",
       "  </tbody>\n",
       "</table>\n",
       "</div>"
      ],
      "text/plain": [
       "   Funcionário  Convencional   VendaPro\n",
       "0            1     52.483571  38.895782\n",
       "1            2     49.308678  46.044318\n",
       "2            3     53.238443  35.201649\n",
       "3            4     57.615149  38.359070\n",
       "4            5     48.829233  45.984306"
      ]
     },
     "execution_count": 88,
     "metadata": {},
     "output_type": "execute_result"
    }
   ],
   "source": [
    "url = \"TreinamentoVendedores.csv\"\n",
    "df = pd.read_csv(url)\n",
    "df.head()"
   ]
  },
  {
   "cell_type": "code",
   "execution_count": 89,
   "id": "afc8aabc-2473-4c90-8661-2655b3e32b69",
   "metadata": {},
   "outputs": [
    {
     "data": {
      "text/plain": [
       "Funcionário     0\n",
       "Convencional    0\n",
       "VendaPro        0\n",
       "dtype: int64"
      ]
     },
     "execution_count": 89,
     "metadata": {},
     "output_type": "execute_result"
    }
   ],
   "source": [
    "df.isnull().sum()"
   ]
  },
  {
   "cell_type": "code",
   "execution_count": 87,
   "id": "40e9a7bf-42ef-4864-a1a1-e40a04fd53f9",
   "metadata": {},
   "outputs": [
    {
     "data": {
      "text/html": [
       "<div>\n",
       "<style scoped>\n",
       "    .dataframe tbody tr th:only-of-type {\n",
       "        vertical-align: middle;\n",
       "    }\n",
       "\n",
       "    .dataframe tbody tr th {\n",
       "        vertical-align: top;\n",
       "    }\n",
       "\n",
       "    .dataframe thead th {\n",
       "        text-align: right;\n",
       "    }\n",
       "</style>\n",
       "<table border=\"1\" class=\"dataframe\">\n",
       "  <thead>\n",
       "    <tr style=\"text-align: right;\">\n",
       "      <th></th>\n",
       "      <th>Funcionário</th>\n",
       "      <th>Convencional</th>\n",
       "      <th>VendaPro</th>\n",
       "    </tr>\n",
       "  </thead>\n",
       "  <tbody>\n",
       "    <tr>\n",
       "      <th>count</th>\n",
       "      <td>35.000000</td>\n",
       "      <td>35.000000</td>\n",
       "      <td>35.000000</td>\n",
       "    </tr>\n",
       "    <tr>\n",
       "      <th>mean</th>\n",
       "      <td>18.000000</td>\n",
       "      <td>49.336786</td>\n",
       "      <td>44.316093</td>\n",
       "    </tr>\n",
       "    <tr>\n",
       "      <th>std</th>\n",
       "      <td>10.246951</td>\n",
       "      <td>4.659353</td>\n",
       "      <td>4.398901</td>\n",
       "    </tr>\n",
       "    <tr>\n",
       "      <th>min</th>\n",
       "      <td>1.000000</td>\n",
       "      <td>40.433599</td>\n",
       "      <td>35.201649</td>\n",
       "    </tr>\n",
       "    <tr>\n",
       "      <th>25%</th>\n",
       "      <td>9.500000</td>\n",
       "      <td>46.994137</td>\n",
       "      <td>41.508084</td>\n",
       "    </tr>\n",
       "    <tr>\n",
       "      <th>50%</th>\n",
       "      <td>18.000000</td>\n",
       "      <td>48.829315</td>\n",
       "      <td>44.421759</td>\n",
       "    </tr>\n",
       "    <tr>\n",
       "      <th>75%</th>\n",
       "      <td>26.500000</td>\n",
       "      <td>52.181030</td>\n",
       "      <td>47.433281</td>\n",
       "    </tr>\n",
       "    <tr>\n",
       "      <th>max</th>\n",
       "      <td>35.000000</td>\n",
       "      <td>59.261391</td>\n",
       "      <td>51.781200</td>\n",
       "    </tr>\n",
       "  </tbody>\n",
       "</table>\n",
       "</div>"
      ],
      "text/plain": [
       "       Funcionário  Convencional   VendaPro\n",
       "count    35.000000     35.000000  35.000000\n",
       "mean     18.000000     49.336786  44.316093\n",
       "std      10.246951      4.659353   4.398901\n",
       "min       1.000000     40.433599  35.201649\n",
       "25%       9.500000     46.994137  41.508084\n",
       "50%      18.000000     48.829315  44.421759\n",
       "75%      26.500000     52.181030  47.433281\n",
       "max      35.000000     59.261391  51.781200"
      ]
     },
     "execution_count": 87,
     "metadata": {},
     "output_type": "execute_result"
    }
   ],
   "source": [
    "df.describe()"
   ]
  },
  {
   "cell_type": "code",
   "execution_count": 92,
   "id": "a96d532d-ee6e-4d68-844d-9d644d587426",
   "metadata": {},
   "outputs": [
    {
     "data": {
      "text/html": [
       "<div>\n",
       "<style scoped>\n",
       "    .dataframe tbody tr th:only-of-type {\n",
       "        vertical-align: middle;\n",
       "    }\n",
       "\n",
       "    .dataframe tbody tr th {\n",
       "        vertical-align: top;\n",
       "    }\n",
       "\n",
       "    .dataframe thead th {\n",
       "        text-align: right;\n",
       "    }\n",
       "</style>\n",
       "<table border=\"1\" class=\"dataframe\">\n",
       "  <thead>\n",
       "    <tr style=\"text-align: right;\">\n",
       "      <th></th>\n",
       "      <th>Funcionário</th>\n",
       "      <th>Convencional</th>\n",
       "      <th>VendaPro</th>\n",
       "    </tr>\n",
       "  </thead>\n",
       "  <tbody>\n",
       "    <tr>\n",
       "      <th>Funcionário</th>\n",
       "      <td>1.000000</td>\n",
       "      <td>-0.153694</td>\n",
       "      <td>0.293170</td>\n",
       "    </tr>\n",
       "    <tr>\n",
       "      <th>Convencional</th>\n",
       "      <td>-0.153694</td>\n",
       "      <td>1.000000</td>\n",
       "      <td>-0.186855</td>\n",
       "    </tr>\n",
       "    <tr>\n",
       "      <th>VendaPro</th>\n",
       "      <td>0.293170</td>\n",
       "      <td>-0.186855</td>\n",
       "      <td>1.000000</td>\n",
       "    </tr>\n",
       "  </tbody>\n",
       "</table>\n",
       "</div>"
      ],
      "text/plain": [
       "              Funcionário  Convencional  VendaPro\n",
       "Funcionário      1.000000     -0.153694  0.293170\n",
       "Convencional    -0.153694      1.000000 -0.186855\n",
       "VendaPro         0.293170     -0.186855  1.000000"
      ]
     },
     "execution_count": 92,
     "metadata": {},
     "output_type": "execute_result"
    }
   ],
   "source": [
    "df.corr()"
   ]
  },
  {
   "cell_type": "code",
   "execution_count": 96,
   "id": "a59dfa39-bd8b-4c42-8a4b-943b12f5ab51",
   "metadata": {},
   "outputs": [
    {
     "data": {
      "image/png": "[encoded data removed]",
      "text/plain": [
       "<Figure size 640x480 with 1 Axes>"
      ]
     },
     "metadata": {},
     "output_type": "display_data"
    }
   ],
   "source": [
    "sns.scatterplot(data=df, x='Convencional', y='VendaPro');"
   ]
  },
  {
   "cell_type": "code",
   "execution_count": 97,
   "id": "56e5659c-dfbc-4089-8a7f-09a8bb90605e",
   "metadata": {},
   "outputs": [
    {
     "name": "stdout",
     "output_type": "stream",
     "text": [
      "Resultados do Teste t Pareado:\n",
      "Estatística t: 4.2554594832680355\n",
      "Valor p: 0.00015480357261876546\n",
      "\n",
      "Com um nível de significância de 2.0%, há evidências estatísticas para concluir que o método VendaPro Academy é superior ao método convencional.\n",
      "A diferença média de tempo para atingir a meta entre o método convencional e o VendaPro é de: 5.02 horas.\n"
     ]
    }
   ],
   "source": [
    "if df.isnull().values.any():\n",
    "    print(\"Existem valores nulos no dataset. Remova-os antes de continuar.\")\n",
    "    df.dropna(inplace=True) # Remove valores nulos\n",
    "\n",
    "t_statistic, p_value = stats.ttest_rel(df['Convencional'], df['VendaPro'])\n",
    "\n",
    "print(\"Resultados do Teste t Pareado:\")\n",
    "print(f\"Estatística t: {t_statistic}\")\n",
    "print(f\"Valor p: {p_value}\")\n",
    "\n",
    "alpha = 0.02\n",
    "if p_value / 2 < alpha and t_statistic > 0: # Divide o p_value por 2 para o teste unicaudal e verifica se t é positivo\n",
    "    print(f\"\\nCom um nível de significância de {alpha*100}%, há evidências estatísticas para concluir que o método VendaPro Academy é superior ao método convencional.\")\n",
    "elif p_value / 2 < alpha and t_statistic < 0:\n",
    "    print(f\"\\nCom um nível de significância de {alpha*100}%, há evidências estatísticas para concluir que o método Convencional é superior ao método VendaPro Academy.\")\n",
    "else:\n",
    "    print(f\"\\nCom um nível de significância de {alpha*100}%, não há evidências estatísticas suficientes para concluir que o método VendaPro Academy é superior ao método convencional.\")\n",
    "\n",
    "diferenca_medias = (df['Convencional'] - df['VendaPro']).mean()\n",
    "print(f\"A diferença média de tempo para atingir a meta entre o método convencional e o VendaPro é de: {diferenca_medias:.2f} horas.\")"
   ]
  },
  {
   "cell_type": "markdown",
   "id": "e8fe97fb-ab1e-4e2d-8b4f-400c32b2f62a",
   "metadata": {},
   "source": [
    "## 4."
   ]
  },
  {
   "cell_type": "markdown",
   "id": "143a61dc-343f-4d5d-8845-c5a165f113dc",
   "metadata": {},
   "source": [
    "Em um mundo onde a música desempenha um papel fundamental nas\n",
    "experiências diárias, a imersão em uma variedade de gêneros musicais\n",
    "tornou-se uma parte intrínseca da vida cotidiana. Com a ascensão de\n",
    "plataformas de streaming e a facilidade de acesso à música, as pessoas\n",
    "desfrutam da liberdade de escolher seus gêneros preferidos e dedicar tempo\n",
    "considerável à apreciação das composições que ressoam com suas\n",
    "emoções.\n",
    "Este fenômeno despertou um interesse significativo em compreender o\n",
    "tempo dedicado diariamente às músicas favoritas das pessoas, bem como\n",
    "explorar se existem diferenças notáveis nos hábitos de escuta entre os\n",
    "diversos gêneros musicais.\n",
    "No conjunto de dados \"Musicas.csv\", encontramos informações detalhadas\n",
    "sobre usuários de várias idades, incluindo dados sobre seus hábitos\n",
    "musicais, como o gênero favorito e o tempo diário dedicado à audição\n",
    "musical.\n",
    "O objetivo central deste estudo é testar a hipótese de que existe uma\n",
    "diferença significativa no tempo, em horas, que as pessoas dedicam\n",
    "diariamente à audição de música, com base em seus gêneros musicais\n",
    "favoritos.\n",
    "Use as colunas: (Fav genre - gênero favorito e Hours per day - horas por\n",
    "dia). Use o nível de significância de 5% para verificar essa hipótese.\n",
    "Dica: Use o pacote pingouin para facilitar a análise de suposições do teste\n",
    "escolhido."
   ]
  },
  {
   "cell_type": "code",
   "execution_count": 104,
   "id": "83a7945e-e01d-4930-9ba7-03fd0c5e2fb3",
   "metadata": {},
   "outputs": [
    {
     "data": {
      "text/html": [
       "<div>\n",
       "<style scoped>\n",
       "    .dataframe tbody tr th:only-of-type {\n",
       "        vertical-align: middle;\n",
       "    }\n",
       "\n",
       "    .dataframe tbody tr th {\n",
       "        vertical-align: top;\n",
       "    }\n",
       "\n",
       "    .dataframe thead th {\n",
       "        text-align: right;\n",
       "    }\n",
       "</style>\n",
       "<table border=\"1\" class=\"dataframe\">\n",
       "  <thead>\n",
       "    <tr style=\"text-align: right;\">\n",
       "      <th></th>\n",
       "      <th>Timestamp</th>\n",
       "      <th>Age</th>\n",
       "      <th>Primary streaming service</th>\n",
       "      <th>Hours per day</th>\n",
       "      <th>While working</th>\n",
       "      <th>Instrumentalist</th>\n",
       "      <th>Composer</th>\n",
       "      <th>Fav genre</th>\n",
       "      <th>Exploratory</th>\n",
       "      <th>Foreign languages</th>\n",
       "      <th>...</th>\n",
       "      <th>Frequency [R&amp;B]</th>\n",
       "      <th>Frequency [Rap]</th>\n",
       "      <th>Frequency [Rock]</th>\n",
       "      <th>Frequency [Video game music]</th>\n",
       "      <th>Anxiety</th>\n",
       "      <th>Depression</th>\n",
       "      <th>Insomnia</th>\n",
       "      <th>OCD</th>\n",
       "      <th>Music effects</th>\n",
       "      <th>Permissions</th>\n",
       "    </tr>\n",
       "  </thead>\n",
       "  <tbody>\n",
       "    <tr>\n",
       "      <th>0</th>\n",
       "      <td>8/27/2022 19:57:31</td>\n",
       "      <td>63.0</td>\n",
       "      <td>Pandora</td>\n",
       "      <td>1.5</td>\n",
       "      <td>Yes</td>\n",
       "      <td>No</td>\n",
       "      <td>No</td>\n",
       "      <td>Rock</td>\n",
       "      <td>Yes</td>\n",
       "      <td>No</td>\n",
       "      <td>...</td>\n",
       "      <td>Sometimes</td>\n",
       "      <td>Rarely</td>\n",
       "      <td>Very frequently</td>\n",
       "      <td>Rarely</td>\n",
       "      <td>7.0</td>\n",
       "      <td>2.0</td>\n",
       "      <td>2.0</td>\n",
       "      <td>1.0</td>\n",
       "      <td>NaN</td>\n",
       "      <td>I understand.</td>\n",
       "    </tr>\n",
       "    <tr>\n",
       "      <th>1</th>\n",
       "      <td>8/27/2022 21:28:18</td>\n",
       "      <td>18.0</td>\n",
       "      <td>Spotify</td>\n",
       "      <td>4.0</td>\n",
       "      <td>No</td>\n",
       "      <td>No</td>\n",
       "      <td>No</td>\n",
       "      <td>Video game music</td>\n",
       "      <td>No</td>\n",
       "      <td>Yes</td>\n",
       "      <td>...</td>\n",
       "      <td>Never</td>\n",
       "      <td>Rarely</td>\n",
       "      <td>Rarely</td>\n",
       "      <td>Very frequently</td>\n",
       "      <td>7.0</td>\n",
       "      <td>7.0</td>\n",
       "      <td>10.0</td>\n",
       "      <td>2.0</td>\n",
       "      <td>No effect</td>\n",
       "      <td>I understand.</td>\n",
       "    </tr>\n",
       "    <tr>\n",
       "      <th>2</th>\n",
       "      <td>8/27/2022 21:54:47</td>\n",
       "      <td>18.0</td>\n",
       "      <td>Spotify</td>\n",
       "      <td>4.0</td>\n",
       "      <td>Yes</td>\n",
       "      <td>No</td>\n",
       "      <td>No</td>\n",
       "      <td>R&amp;B</td>\n",
       "      <td>Yes</td>\n",
       "      <td>No</td>\n",
       "      <td>...</td>\n",
       "      <td>Very frequently</td>\n",
       "      <td>Very frequently</td>\n",
       "      <td>Never</td>\n",
       "      <td>Rarely</td>\n",
       "      <td>7.0</td>\n",
       "      <td>2.0</td>\n",
       "      <td>5.0</td>\n",
       "      <td>9.0</td>\n",
       "      <td>Improve</td>\n",
       "      <td>I understand.</td>\n",
       "    </tr>\n",
       "    <tr>\n",
       "      <th>3</th>\n",
       "      <td>8/27/2022 22:00:29</td>\n",
       "      <td>18.0</td>\n",
       "      <td>YouTube Music</td>\n",
       "      <td>3.0</td>\n",
       "      <td>Yes</td>\n",
       "      <td>Yes</td>\n",
       "      <td>No</td>\n",
       "      <td>Video game music</td>\n",
       "      <td>Yes</td>\n",
       "      <td>Yes</td>\n",
       "      <td>...</td>\n",
       "      <td>Rarely</td>\n",
       "      <td>Never</td>\n",
       "      <td>Never</td>\n",
       "      <td>Sometimes</td>\n",
       "      <td>4.0</td>\n",
       "      <td>8.0</td>\n",
       "      <td>6.0</td>\n",
       "      <td>0.0</td>\n",
       "      <td>Improve</td>\n",
       "      <td>I understand.</td>\n",
       "    </tr>\n",
       "    <tr>\n",
       "      <th>4</th>\n",
       "      <td>8/27/2022 22:18:59</td>\n",
       "      <td>21.0</td>\n",
       "      <td>Spotify</td>\n",
       "      <td>1.0</td>\n",
       "      <td>Yes</td>\n",
       "      <td>No</td>\n",
       "      <td>No</td>\n",
       "      <td>K pop</td>\n",
       "      <td>Yes</td>\n",
       "      <td>Yes</td>\n",
       "      <td>...</td>\n",
       "      <td>Sometimes</td>\n",
       "      <td>Rarely</td>\n",
       "      <td>Never</td>\n",
       "      <td>Rarely</td>\n",
       "      <td>5.0</td>\n",
       "      <td>3.0</td>\n",
       "      <td>5.0</td>\n",
       "      <td>3.0</td>\n",
       "      <td>Improve</td>\n",
       "      <td>I understand.</td>\n",
       "    </tr>\n",
       "  </tbody>\n",
       "</table>\n",
       "<p>5 rows × 33 columns</p>\n",
       "</div>"
      ],
      "text/plain": [
       "            Timestamp   Age Primary streaming service  Hours per day  \\\n",
       "0  8/27/2022 19:57:31  63.0                   Pandora            1.5   \n",
       "1  8/27/2022 21:28:18  18.0                   Spotify            4.0   \n",
       "2  8/27/2022 21:54:47  18.0                   Spotify            4.0   \n",
       "3  8/27/2022 22:00:29  18.0             YouTube Music            3.0   \n",
       "4  8/27/2022 22:18:59  21.0                   Spotify            1.0   \n",
       "\n",
       "  While working Instrumentalist Composer         Fav genre Exploratory  \\\n",
       "0           Yes              No       No              Rock         Yes   \n",
       "1            No              No       No  Video game music          No   \n",
       "2           Yes              No       No               R&B         Yes   \n",
       "3           Yes             Yes       No  Video game music         Yes   \n",
       "4           Yes              No       No             K pop         Yes   \n",
       "\n",
       "  Foreign languages  ...  Frequency [R&B]  Frequency [Rap] Frequency [Rock]  \\\n",
       "0                No  ...        Sometimes           Rarely  Very frequently   \n",
       "1               Yes  ...            Never           Rarely           Rarely   \n",
       "2                No  ...  Very frequently  Very frequently            Never   \n",
       "3               Yes  ...           Rarely            Never            Never   \n",
       "4               Yes  ...        Sometimes           Rarely            Never   \n",
       "\n",
       "  Frequency [Video game music] Anxiety Depression Insomnia  OCD Music effects  \\\n",
       "0                       Rarely     7.0        2.0      2.0  1.0           NaN   \n",
       "1              Very frequently     7.0        7.0     10.0  2.0     No effect   \n",
       "2                       Rarely     7.0        2.0      5.0  9.0       Improve   \n",
       "3                    Sometimes     4.0        8.0      6.0  0.0       Improve   \n",
       "4                       Rarely     5.0        3.0      5.0  3.0       Improve   \n",
       "\n",
       "     Permissions  \n",
       "0  I understand.  \n",
       "1  I understand.  \n",
       "2  I understand.  \n",
       "3  I understand.  \n",
       "4  I understand.  \n",
       "\n",
       "[5 rows x 33 columns]"
      ]
     },
     "execution_count": 104,
     "metadata": {},
     "output_type": "execute_result"
    }
   ],
   "source": [
    "file_path = 'Musicas.csv'  \n",
    "df = pd.read_csv(file_path)\n",
    "\n",
    "df.head()"
   ]
  },
  {
   "cell_type": "code",
   "execution_count": 105,
   "id": "973ebec3-943b-49d7-9441-6f6ff4151835",
   "metadata": {},
   "outputs": [
    {
     "data": {
      "text/plain": [
       "Timestamp                         0\n",
       "Age                               1\n",
       "Primary streaming service         1\n",
       "Hours per day                     0\n",
       "While working                     3\n",
       "Instrumentalist                   4\n",
       "Composer                          1\n",
       "Fav genre                         0\n",
       "Exploratory                       0\n",
       "Foreign languages                 4\n",
       "BPM                             104\n",
       "Frequency [Classical]             0\n",
       "Frequency [Country]               0\n",
       "Frequency [EDM]                   0\n",
       "Frequency [Folk]                  0\n",
       "Frequency [Gospel]                0\n",
       "Frequency [Hip hop]               0\n",
       "Frequency [Jazz]                  0\n",
       "Frequency [K pop]                 0\n",
       "Frequency [Latin]                 0\n",
       "Frequency [Lofi]                  0\n",
       "Frequency [Metal]                 0\n",
       "Frequency [Pop]                   0\n",
       "Frequency [R&B]                   0\n",
       "Frequency [Rap]                   0\n",
       "Frequency [Rock]                  0\n",
       "Frequency [Video game music]      0\n",
       "Anxiety                           0\n",
       "Depression                        0\n",
       "Insomnia                          0\n",
       "OCD                               0\n",
       "Music effects                     7\n",
       "Permissions                       0\n",
       "dtype: int64"
      ]
     },
     "execution_count": 105,
     "metadata": {},
     "output_type": "execute_result"
    }
   ],
   "source": [
    "df.isnull().sum()"
   ]
  },
  {
   "cell_type": "code",
   "execution_count": 109,
   "id": "334eeeac-3be9-44f3-a679-f187c30204da",
   "metadata": {},
   "outputs": [
    {
     "data": {
      "image/png": "[encoded data removed]",
      "text/plain": [
       "<Figure size 1000x600 with 1 Axes>"
      ]
     },
     "metadata": {},
     "output_type": "display_data"
    }
   ],
   "source": [
    "plt.figure(figsize=(10, 6))\n",
    "\n",
    "sns.countplot(data=df, x='Fav genre')\n",
    "\n",
    "plt.xticks(rotation=90)\n",
    "\n",
    "plt.show()"
   ]
  },
  {
   "cell_type": "code",
   "execution_count": 110,
   "id": "ceeecece-41c3-48cb-8d89-0fc0b2279d3d",
   "metadata": {},
   "outputs": [
    {
     "data": {
      "text/plain": [
       "<Axes: xlabel='Hours per day'>"
      ]
     },
     "execution_count": 110,
     "metadata": {},
     "output_type": "execute_result"
    },
    {
     "data": {
      "image/png": "[encoded data removed]",
      "text/plain": [
       "<Figure size 640x480 with 1 Axes>"
      ]
     },
     "metadata": {},
     "output_type": "display_data"
    }
   ],
   "source": [
    "sns.boxplot(data=df, x='Hours per day')"
   ]
  },
  {
   "cell_type": "code",
   "execution_count": 111,
   "id": "49344a93-ab5f-444e-84b5-3096c09a08df",
   "metadata": {},
   "outputs": [
    {
     "name": "stdout",
     "output_type": "stream",
     "text": [
      "Teste de Normalidade (Shapiro-Wilk) para cada grupo:\n",
      "Gênero: Rock, Estatística: 0.755, p-valor: 0.000\n",
      "O gênero Rock não segue uma distribuição normal.\n",
      "Gênero: Video game music, Estatística: 0.830, p-valor: 0.000\n",
      "O gênero Video game music não segue uma distribuição normal.\n",
      "Gênero: R&B, Estatística: 0.846, p-valor: 0.000\n",
      "O gênero R&B não segue uma distribuição normal.\n",
      "Gênero: K pop, Estatística: 0.797, p-valor: 0.000\n",
      "O gênero K pop não segue uma distribuição normal.\n",
      "Gênero: Country, Estatística: 0.893, p-valor: 0.013\n",
      "O gênero Country não segue uma distribuição normal.\n",
      "Gênero: EDM, Estatística: 0.813, p-valor: 0.000\n",
      "O gênero EDM não segue uma distribuição normal.\n",
      "Gênero: Hip hop, Estatística: 0.819, p-valor: 0.000\n",
      "O gênero Hip hop não segue uma distribuição normal.\n",
      "Gênero: Pop, Estatística: 0.816, p-valor: 0.000\n",
      "O gênero Pop não segue uma distribuição normal.\n",
      "Gênero: Rap, Estatística: 0.612, p-valor: 0.000\n",
      "O gênero Rap não segue uma distribuição normal.\n",
      "Gênero: Classical, Estatística: 0.932, p-valor: 0.005\n",
      "O gênero Classical não segue uma distribuição normal.\n",
      "Gênero: Metal, Estatística: 0.843, p-valor: 0.000\n",
      "O gênero Metal não segue uma distribuição normal.\n",
      "Gênero: Folk, Estatística: 0.919, p-valor: 0.025\n",
      "O gênero Folk não segue uma distribuição normal.\n",
      "\n",
      "Teste de Homogeneidade das Variâncias (Teste de Levene):\n",
      "Estatística: 2.145, p-valor: 0.016\n",
      "As variâncias não são homogêneas.\n",
      "\n",
      "Teste ANOVA:\n",
      "      Source           SS   DF         MS         F     p-unc       np2\n",
      "0  fav_genre   211.688160   11  19.244378  2.196592  0.013155  0.034072\n",
      "1     Within  6001.296539  685   8.761017       NaN       NaN       NaN\n",
      "\n",
      "Rejeitamos a hipótese nula. Existe uma diferença significativa no tempo dedicado à música entre os diferentes gêneros musicais (p-valor = 0.013).\n",
      "\n",
      "Teste Post-Hoc de Tukey:\n",
      "            A                 B   mean(A)   mean(B)      diff        se  \\\n",
      "0   Classical           Country  2.882075  3.420000 -0.537925  0.718152   \n",
      "1   Classical               EDM  2.882075  4.594595 -1.712519  0.634103   \n",
      "2   Classical              Folk  2.882075  3.236667 -0.354591  0.676266   \n",
      "3   Classical           Hip hop  2.882075  3.928571 -1.046496  0.644684   \n",
      "4   Classical             K pop  2.882075  4.000000 -1.117925  0.708706   \n",
      "..        ...               ...       ...       ...       ...       ...   \n",
      "61        R&B              Rock  3.471429  3.634043 -0.162614  0.544900   \n",
      "62        R&B  Video game music  3.471429  2.914773  0.556656  0.670395   \n",
      "63        Rap              Rock  5.318182  3.634043  1.684139  0.666955   \n",
      "64        Rap  Video game music  5.318182  2.914773  2.403409  0.772879   \n",
      "65       Rock  Video game music  3.634043  2.914773  0.719270  0.495697   \n",
      "\n",
      "           T   p-tukey    hedges  \n",
      "0  -0.749040  0.999848 -0.264816  \n",
      "1  -2.700696  0.228038 -0.574551  \n",
      "2  -0.524337  0.999996 -0.178622  \n",
      "3  -1.623271  0.900238 -0.434963  \n",
      "4  -1.577416  0.916836 -0.448271  \n",
      "..       ...       ...       ...  \n",
      "61 -0.298429  1.000000 -0.051500  \n",
      "62  0.830341  0.999588  0.235816  \n",
      "63  2.525116  0.325953  0.448347  \n",
      "64  3.109683  0.082120  0.561284  \n",
      "65  1.451028  0.952710  0.225624  \n",
      "\n",
      "[66 rows x 9 columns]\n"
     ]
    }
   ],
   "source": [
    "df = df.rename(columns={'Fav genre': 'fav_genre', 'Hours per day': 'hours_per_day'})\n",
    "\n",
    "if len(df['fav_genre'].unique()) < 2:\n",
    "    print(\"Não há grupos suficientes para realizar o teste ANOVA.\")\n",
    "    exit()\n",
    "\n",
    "print(\"Teste de Normalidade (Shapiro-Wilk) para cada grupo:\")\n",
    "for genre in df['fav_genre'].unique():\n",
    "    group = df[df['fav_genre'] == genre]['hours_per_day']\n",
    "    shapiro_test = stats.shapiro(group)\n",
    "    print(f\"Gênero: {genre}, Estatística: {shapiro_test.statistic:.3f}, p-valor: {shapiro_test.pvalue:.3f}\")\n",
    "    if shapiro_test.pvalue < 0.05:\n",
    "        print(f\"O gênero {genre} não segue uma distribuição normal.\")\n",
    "\n",
    "levene_test = stats.levene(*[df[df['fav_genre'] == genre]['hours_per_day'] for genre in df['fav_genre'].unique()])\n",
    "print(\"\\nTeste de Homogeneidade das Variâncias (Teste de Levene):\")\n",
    "print(f\"Estatística: {levene_test.statistic:.3f}, p-valor: {levene_test.pvalue:.3f}\")\n",
    "if levene_test.pvalue < 0.05:\n",
    "    print(\"As variâncias não são homogêneas.\")\n",
    "\n",
    "print(\"\\nTeste ANOVA:\")\n",
    "aov = pg.anova(data=df, dv='hours_per_day', between='fav_genre', detailed=True)\n",
    "print(aov)\n",
    "\n",
    "alpha = 0.05\n",
    "if aov['p-unc'][0] < alpha:\n",
    "    print(f\"\\nRejeitamos a hipótese nula. Existe uma diferença significativa no tempo dedicado à música entre os diferentes gêneros musicais (p-valor = {aov['p-unc'][0]:.3f}).\")\n",
    "\n",
    "    print(\"\\nTeste Post-Hoc de Tukey:\")\n",
    "    posthoc = pg.pairwise_tukey(data=df, dv='hours_per_day', between='fav_genre')\n",
    "    print(posthoc)\n",
    "else:\n",
    "    print(f\"\\nNão rejeitamos a hipótese nula. Não há evidências suficientes para afirmar que existe uma diferença significativa no tempo dedicado à música entre os diferentes gêneros musicais (p-valor = {aov['p-unc'][0]:.3f}).\")"
   ]
  },
  {
   "cell_type": "markdown",
   "id": "3027256e-897d-4f37-add3-fea58935abac",
   "metadata": {},
   "source": [
    "## 5."
   ]
  },
  {
   "cell_type": "markdown",
   "id": "38e37a33-d4ef-417e-a051-5b5f30e254e7",
   "metadata": {},
   "source": [
    "O sucesso de uma equipe esportiva não se limita apenas às habilidades\n",
    "físicas dos atletas, mas também é influenciado por fatores psicológicos,\n",
    "incluindo o estilo de treinamento adotado pelo treinador. Diferentes\n",
    "treinadores têm abordagens únicas para motivar, orientar e interagir\n",
    "com seus atletas. Pensando nisso, um estudo foi feito durante um ano para\n",
    "explorar o impacto do comportamento do treinador no desempenho de\n",
    "equipes de atletas, para isso, avaliou-se o desempenho de equipes para\n",
    "diferentes tipos de treinadores que treinaram a equipe durante dois meses\n",
    "cada um.\n",
    "A hipótese em teste é que o comportamento do treinador durante o\n",
    "treinamento pode ter um efeito significativo no desempenho das equipes na\n",
    "corrida. Acredita-se que certos tipos de treinadores podem influenciar\n",
    "positivamente os resultados, enquanto outros podem ter diferentes\n",
    "implicações no desempenho dos atletas. Entenda como impacto positivo,\n",
    "uma diminuição no tempo que as equipes levaram para finalizar a\n",
    "corrida. \n",
    "Use a base de dados “ImpactoTreinador.csv” e conclua se existe essa\n",
    "diferença significativa do comportamento do treinador no tempo de corrida\n",
    "das equipes, use o nível de significância de 5%.\n",
    "Com base nos resultados conseguimos identificar uma diferença? Se sim,\n",
    "entre quais tipos de comportamentos vemos um tempo menor para\n",
    "finalização da corrida?\n"
   ]
  },
  {
   "cell_type": "code",
   "execution_count": 112,
   "id": "875890e0-ae6a-4f49-8560-77874a64c1f3",
   "metadata": {},
   "outputs": [
    {
     "data": {
      "text/html": [
       "<div>\n",
       "<style scoped>\n",
       "    .dataframe tbody tr th:only-of-type {\n",
       "        vertical-align: middle;\n",
       "    }\n",
       "\n",
       "    .dataframe tbody tr th {\n",
       "        vertical-align: top;\n",
       "    }\n",
       "\n",
       "    .dataframe thead th {\n",
       "        text-align: right;\n",
       "    }\n",
       "</style>\n",
       "<table border=\"1\" class=\"dataframe\">\n",
       "  <thead>\n",
       "    <tr style=\"text-align: right;\">\n",
       "      <th></th>\n",
       "      <th>Equipe</th>\n",
       "      <th>Semana</th>\n",
       "      <th>Tipo de Treinador</th>\n",
       "      <th>Tempo de Corrida</th>\n",
       "    </tr>\n",
       "  </thead>\n",
       "  <tbody>\n",
       "    <tr>\n",
       "      <th>0</th>\n",
       "      <td>1</td>\n",
       "      <td>1</td>\n",
       "      <td>Motivador</td>\n",
       "      <td>42.483571</td>\n",
       "    </tr>\n",
       "    <tr>\n",
       "      <th>1</th>\n",
       "      <td>1</td>\n",
       "      <td>1</td>\n",
       "      <td>Rigoroso</td>\n",
       "      <td>46.308678</td>\n",
       "    </tr>\n",
       "    <tr>\n",
       "      <th>2</th>\n",
       "      <td>1</td>\n",
       "      <td>1</td>\n",
       "      <td>Colaborador</td>\n",
       "      <td>53.238443</td>\n",
       "    </tr>\n",
       "    <tr>\n",
       "      <th>3</th>\n",
       "      <td>1</td>\n",
       "      <td>1</td>\n",
       "      <td>Analítico</td>\n",
       "      <td>47.615149</td>\n",
       "    </tr>\n",
       "    <tr>\n",
       "      <th>4</th>\n",
       "      <td>2</td>\n",
       "      <td>1</td>\n",
       "      <td>Motivador</td>\n",
       "      <td>38.829233</td>\n",
       "    </tr>\n",
       "  </tbody>\n",
       "</table>\n",
       "</div>"
      ],
      "text/plain": [
       "   Equipe  Semana Tipo de Treinador  Tempo de Corrida\n",
       "0       1       1         Motivador         42.483571\n",
       "1       1       1          Rigoroso         46.308678\n",
       "2       1       1       Colaborador         53.238443\n",
       "3       1       1         Analítico         47.615149\n",
       "4       2       1         Motivador         38.829233"
      ]
     },
     "execution_count": 112,
     "metadata": {},
     "output_type": "execute_result"
    }
   ],
   "source": [
    "# 1. Carregar os dados\n",
    "url = 'ImpactoTreinador.csv'  # Substitua pelo URL ou caminho local do arquivo\n",
    "df = pd.read_csv(url)\n",
    "df.head()"
   ]
  },
  {
   "cell_type": "code",
   "execution_count": 113,
   "id": "ee1fd20f-55fc-49fd-9dbb-d9fa4ba2975a",
   "metadata": {},
   "outputs": [
    {
     "data": {
      "text/plain": [
       "Equipe               0\n",
       "Semana               0\n",
       "Tipo de Treinador    0\n",
       "Tempo de Corrida     0\n",
       "dtype: int64"
      ]
     },
     "execution_count": 113,
     "metadata": {},
     "output_type": "execute_result"
    }
   ],
   "source": [
    "df.isnull().sum()"
   ]
  },
  {
   "cell_type": "code",
   "execution_count": 115,
   "id": "ba354022-1f3e-4afb-8e01-78d505af7afd",
   "metadata": {},
   "outputs": [
    {
     "data": {
      "text/html": [
       "<div>\n",
       "<style scoped>\n",
       "    .dataframe tbody tr th:only-of-type {\n",
       "        vertical-align: middle;\n",
       "    }\n",
       "\n",
       "    .dataframe tbody tr th {\n",
       "        vertical-align: top;\n",
       "    }\n",
       "\n",
       "    .dataframe thead th {\n",
       "        text-align: right;\n",
       "    }\n",
       "</style>\n",
       "<table border=\"1\" class=\"dataframe\">\n",
       "  <thead>\n",
       "    <tr style=\"text-align: right;\">\n",
       "      <th></th>\n",
       "      <th>count</th>\n",
       "      <th>mean</th>\n",
       "      <th>std</th>\n",
       "      <th>min</th>\n",
       "      <th>25%</th>\n",
       "      <th>50%</th>\n",
       "      <th>75%</th>\n",
       "      <th>max</th>\n",
       "    </tr>\n",
       "    <tr>\n",
       "      <th>Tipo de Treinador</th>\n",
       "      <th></th>\n",
       "      <th></th>\n",
       "      <th></th>\n",
       "      <th></th>\n",
       "      <th></th>\n",
       "      <th></th>\n",
       "      <th></th>\n",
       "      <th></th>\n",
       "    </tr>\n",
       "  </thead>\n",
       "  <tbody>\n",
       "    <tr>\n",
       "      <th>Analítico</th>\n",
       "      <td>15.0</td>\n",
       "      <td>40.635717</td>\n",
       "      <td>5.261111</td>\n",
       "      <td>32.876259</td>\n",
       "      <td>37.429957</td>\n",
       "      <td>40.984306</td>\n",
       "      <td>44.767063</td>\n",
       "      <td>49.261391</td>\n",
       "    </tr>\n",
       "    <tr>\n",
       "      <th>Colaborador</th>\n",
       "      <td>15.0</td>\n",
       "      <td>49.349930</td>\n",
       "      <td>4.688475</td>\n",
       "      <td>41.375411</td>\n",
       "      <td>46.225673</td>\n",
       "      <td>49.421759</td>\n",
       "      <td>52.447380</td>\n",
       "      <td>57.896064</td>\n",
       "    </tr>\n",
       "    <tr>\n",
       "      <th>Motivador</th>\n",
       "      <td>15.0</td>\n",
       "      <td>39.208545</td>\n",
       "      <td>3.801195</td>\n",
       "      <td>32.607390</td>\n",
       "      <td>36.806098</td>\n",
       "      <td>38.829233</td>\n",
       "      <td>41.463951</td>\n",
       "      <td>47.328244</td>\n",
       "    </tr>\n",
       "    <tr>\n",
       "      <th>Rigoroso</th>\n",
       "      <td>15.0</td>\n",
       "      <td>44.712715</td>\n",
       "      <td>4.272364</td>\n",
       "      <td>37.201649</td>\n",
       "      <td>42.556112</td>\n",
       "      <td>45.829315</td>\n",
       "      <td>47.705727</td>\n",
       "      <td>50.058381</td>\n",
       "    </tr>\n",
       "  </tbody>\n",
       "</table>\n",
       "</div>"
      ],
      "text/plain": [
       "                   count       mean       std        min        25%  \\\n",
       "Tipo de Treinador                                                     \n",
       "Analítico           15.0  40.635717  5.261111  32.876259  37.429957   \n",
       "Colaborador         15.0  49.349930  4.688475  41.375411  46.225673   \n",
       "Motivador           15.0  39.208545  3.801195  32.607390  36.806098   \n",
       "Rigoroso            15.0  44.712715  4.272364  37.201649  42.556112   \n",
       "\n",
       "                         50%        75%        max  \n",
       "Tipo de Treinador                                   \n",
       "Analítico          40.984306  44.767063  49.261391  \n",
       "Colaborador        49.421759  52.447380  57.896064  \n",
       "Motivador          38.829233  41.463951  47.328244  \n",
       "Rigoroso           45.829315  47.705727  50.058381  "
      ]
     },
     "execution_count": 115,
     "metadata": {},
     "output_type": "execute_result"
    }
   ],
   "source": [
    "df.groupby('Tipo de Treinador')['Tempo de Corrida'].describe()"
   ]
  },
  {
   "cell_type": "code",
   "execution_count": 116,
   "id": "509dc92b-a5ae-49ad-b066-8a84110e9406",
   "metadata": {},
   "outputs": [
    {
     "data": {
      "image/png": "[encoded data removed]",
      "text/plain": [
       "<Figure size 1000x600 with 1 Axes>"
      ]
     },
     "metadata": {},
     "output_type": "display_data"
    }
   ],
   "source": [
    "plt.figure(figsize=(10, 6))\n",
    "sns.boxplot(x='Tipo de Treinador', y='Tempo de Corrida', data=df)\n",
    "plt.title('Distribuição do Tempo de Corrida por Tipo de Treinador')\n",
    "plt.show()"
   ]
  },
  {
   "cell_type": "code",
   "execution_count": 117,
   "id": "03aec796-8276-41dc-9e11-8f8b79a9f901",
   "metadata": {},
   "outputs": [],
   "source": [
    "df = df.rename(columns={'Tipo de Treinador': 'Tipo_Treinador', 'Tempo de Corrida': 'Tempo_Corrida'})"
   ]
  },
  {
   "cell_type": "code",
   "execution_count": 118,
   "id": "a3484e41-827b-4a84-83f6-d1cd05d85214",
   "metadata": {},
   "outputs": [
    {
     "name": "stdout",
     "output_type": "stream",
     "text": [
      "Tipo de Treinador: Motivador, p-valor Shapiro-Wilk: 0.9863463044166565\n",
      "Tipo de Treinador: Rigoroso, p-valor Shapiro-Wilk: 0.06602644920349121\n",
      "Tipo de Treinador: Colaborador, p-valor Shapiro-Wilk: 0.9958401322364807\n",
      "Tipo de Treinador: Analítico, p-valor Shapiro-Wilk: 0.5084320306777954\n",
      "p-valor Levene: 0.4352375984431702\n",
      "                        sum_sq    df          F        PR(>F)\n",
      "C(Tipo_Treinador)   934.663367   3.0  15.130747  2.496709e-07\n",
      "Residual           1153.085763  56.0        NaN           NaN\n"
     ]
    },
    {
     "name": "stderr",
     "output_type": "stream",
     "text": [
      "C:\\Users\\gabri\\AppData\\Local\\Temp\\ipykernel_12220\\2372903502.py:12: FutureWarning: Series.__getitem__ treating keys as positions is deprecated. In a future version, integer keys will always be treated as labels (consistent with DataFrame behavior). To access a value by position, use `ser.iloc[pos]`\n",
      "  if anova_resultado['PR(>F)'][0] < 0.05:\n"
     ]
    },
    {
     "name": "stdout",
     "output_type": "stream",
     "text": [
      "      Multiple Comparison of Means - Tukey HSD, FWER=0.05      \n",
      "===============================================================\n",
      "   group1      group2   meandiff p-adj   lower    upper  reject\n",
      "---------------------------------------------------------------\n",
      "  Analítico Colaborador   8.7142    0.0   4.3268 13.1016   True\n",
      "  Analítico   Motivador  -1.4272 0.8246  -5.8146  2.9602  False\n",
      "  Analítico    Rigoroso    4.077 0.0775  -0.3104  8.4644  False\n",
      "Colaborador   Motivador -10.1414    0.0 -14.5288  -5.754   True\n",
      "Colaborador    Rigoroso  -4.6372 0.0344  -9.0246 -0.2498   True\n",
      "  Motivador    Rigoroso   5.5042 0.0084   1.1168  9.8916   True\n",
      "---------------------------------------------------------------\n"
     ]
    },
    {
     "data": {
      "image/png": "[encoded data removed]",
      "text/plain": [
       "<Figure size 1000x600 with 1 Axes>"
      ]
     },
     "metadata": {},
     "output_type": "display_data"
    },
    {
     "name": "stdout",
     "output_type": "stream",
     "text": [
      "\n",
      "Médias de tempo por treinador:\n",
      "Tipo_Treinador\n",
      "Analítico      40.635717\n",
      "Colaborador    49.349930\n",
      "Motivador      39.208545\n",
      "Rigoroso       44.712715\n",
      "Name: Tempo_Corrida, dtype: float64\n",
      "\n",
      "O treinador com o menor tempo médio de corrida é o 'Motivador' com 39.21 segundos.\n",
      "Há diferença significativa no tempo de corrida entre os diferentes tipos de treinadores.\n"
     ]
    },
    {
     "name": "stderr",
     "output_type": "stream",
     "text": [
      "C:\\Users\\gabri\\AppData\\Local\\Temp\\ipykernel_12220\\2372903502.py:27: FutureWarning: Series.__getitem__ treating keys as positions is deprecated. In a future version, integer keys will always be treated as labels (consistent with DataFrame behavior). To access a value by position, use `ser.iloc[pos]`\n",
      "  if anova_resultado['PR(>F)'][0] < 0.05:\n"
     ]
    }
   ],
   "source": [
    "for tipo in df['Tipo_Treinador'].unique():\n",
    "    stat, p = stats.shapiro(df[df['Tipo_Treinador'] == tipo]['Tempo_Corrida'])\n",
    "    print(f'Tipo de Treinador: {tipo}, p-valor Shapiro-Wilk: {p}')\n",
    "\n",
    "stat, p = stats.levene(*[df[df['Tipo_Treinador'] == tipo]['Tempo_Corrida'] for tipo in df['Tipo_Treinador'].unique()])\n",
    "print(f'p-valor Levene: {p}')\n",
    "\n",
    "modelo = ols('Tempo_Corrida ~ C(Tipo_Treinador)', data=df).fit()\n",
    "anova_resultado = sm.stats.anova_lm(modelo, typ=2)\n",
    "print(anova_resultado)\n",
    "\n",
    "if anova_resultado['PR(>F)'][0] < 0.05:\n",
    "    from statsmodels.stats.multicomp import pairwise_tukeyhsd\n",
    "    tukey = pairwise_tukeyhsd(endog=df['Tempo_Corrida'], groups=df['Tipo_Treinador'], alpha=0.05)\n",
    "    print(tukey)\n",
    "    tukey.plot_simultaneous()\n",
    "    plt.show()\n",
    "\n",
    "medias_tempo = df.groupby('Tipo_Treinador')['Tempo_Corrida'].mean()\n",
    "print(\"\\nMédias de tempo por treinador:\")\n",
    "print(medias_tempo)\n",
    "\n",
    "melhor_treinador = medias_tempo.idxmin()\n",
    "menor_tempo = medias_tempo.min()\n",
    "print(f\"\\nO treinador com o menor tempo médio de corrida é o '{melhor_treinador}' com {menor_tempo:.2f} segundos.\")\n",
    "\n",
    "if anova_resultado['PR(>F)'][0] < 0.05:\n",
    "    print(\"Há diferença significativa no tempo de corrida entre os diferentes tipos de treinadores.\")\n",
    "else:\n",
    "    print(\"Não há diferença significativa no tempo de corrida entre os diferentes tipos de treinadores.\")"
   ]
  }
 ],
 "metadata": {
  "kernelspec": {
   "display_name": "Python 3 (ipykernel)",
   "language": "python",
   "name": "python3"
  },
  "language_info": {
   "codemirror_mode": {
    "name": "ipython",
    "version": 3
   },
   "file_extension": ".py",
   "mimetype": "text/x-python",
   "name": "python",
   "nbconvert_exporter": "python",
   "pygments_lexer": "ipython3",
   "version": "3.11.7"
  }
 },
 "nbformat": 4,
 "nbformat_minor": 5
}
