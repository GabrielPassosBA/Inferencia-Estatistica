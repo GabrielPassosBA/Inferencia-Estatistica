{
 "cells": [
  {
   "cell_type": "markdown",
   "id": "cd74bfee-5e81-417e-b554-39ffe5fc61c2",
   "metadata": {},
   "source": [
    "# Lista de Exercícios 3"
   ]
  },
  {
   "cell_type": "markdown",
   "id": "58e91755-1af1-4d02-8c0f-a9f73b6212a9",
   "metadata": {},
   "source": [
    "## 1. Descreva a diferença entre os testes de hipóteses paramétricos e não paramétricos. Porque optamos primeiro por usar testes paramétricos?"
   ]
  },
  {
   "cell_type": "markdown",
   "id": "306c028e-d5d4-4e0b-b869-740351e3f978",
   "metadata": {},
   "source": [
    "#### Testes Paramétricos: Esses testes são utilizados geralmente em dados que possuem o distribuição normal, são exemplos de testes paramétricos Teste t de Student, ANOVA e teste Z.\n",
    "#### Testes Não Paramétricos: São livres de distribuição, Podem ser aplicados a dados nominais, ordinais, são exemplos de testes não paramétricos Teste de Mann-Whitney, teste de Wilcoxon, teste de Kruskal-Wallis e teste do Qui-Quadrado. \n",
    "#### Testes Paramétricos tem maior poder estatístico, isso implíca que havendo um efeito real na população, esses testes tem maior probabilidade de detectá-lo como estatísticamente significativo."
   ]
  },
  {
   "cell_type": "markdown",
   "id": "98b7c4fb-f2f8-46c9-adb6-bb86bde1045b",
   "metadata": {},
   "source": [
    "## 2. Teste de Hipótese para Duração da Bateria Um fabricante de telefones deseja competir no mercado de telefones touchscreen. Ele sabe que o produto líder tem bateria que dura apenas 10 horas. O fabricante afirma que, embora o novo telefone touchscreen seja mais caro, sua bateria dura mais do que a do produto líder (mais de 10 horas). Para testar a afirmação desse fabricante, um pesquisador obtém amostras de 45 unidades do novo telefone e descobre que a vida útil da bateria da amostra é, em média, 10,5 horas com um desvio padrão de 1,4 horas.\n"
   ]
  },
  {
   "cell_type": "markdown",
   "id": "537e3c8d-49a4-4134-83d5-a198b0025412",
   "metadata": {},
   "source": [
    "### a. Especifique as hipóteses nula e alternativa apropriadas\n",
    "#### Hipótese Nula (H₀): A duração média da bateria do novo telefone é igual ou menor a 10 horas. (μ ≤ 10)\n",
    "#### Hipótese Alternativa (H₁): A duração média da bateria do novo telefone é maior que 10 horas. (μ > 10)"
   ]
  },
  {
   "cell_type": "markdown",
   "id": "36dac0c7-0586-4b2c-b1bc-6276235b48ff",
   "metadata": {},
   "source": [
    "### b. Calcule a Estatística de teste e o p-valor. Faça as validações \n",
    "necessárias para utilizar o teste"
   ]
  },
  {
   "cell_type": "code",
   "execution_count": 4,
   "id": "f4832e2b-d086-478a-b4ff-3740e34644d8",
   "metadata": {},
   "outputs": [
    {
     "name": "stdout",
     "output_type": "stream",
     "text": [
      "Estatística t: 2.3530\n",
      "p-valor: 0.0116\n",
      "Rejeitamos H0: A bateria do novo telefone dura mais de 10 horas.\n"
     ]
    }
   ],
   "source": [
    "import numpy as np\n",
    "from scipy import stats\n",
    "\n",
    "amostra = [12.53, 12.23, 12.06, 10.54, 12.1, 10.8, 8.21, 8.79, 10.66, 10.98,\n",
    "           10.07, 10.51, 10.52, 9.92, 10.87, 8.17, 10.25, 10.84, 11.75, 11.36,\n",
    "           9.67, 12.19, 10.35, 11.9, 9.14, 9.84, 9.4, 12.65, 8.93, 12.41,\n",
    "           8.65, 11.14, 12.01, 7.9, 10.64, 10.02, 8.07, 11.21, 10.45, 10.95,\n",
    "           11.83, 10.17, 12.26, 9.46, 7.43]\n",
    "\n",
    "n = len(amostra)\n",
    "media_amostral = np.mean(amostra)\n",
    "desvio_padrao_amostral = np.std(amostra, ddof=1) # ddof=1 para desvio padrão amostral\n",
    "media_populacional_hipotetica = 10\n",
    "\n",
    "t_statistic = (media_amostral - media_populacional_hipotetica) / (desvio_padrao_amostral / np.sqrt(n))\n",
    "\n",
    "p_valor = 1 - stats.t.cdf(t_statistic, df=n-1) \n",
    "\n",
    "print(f\"Estatística t: {t_statistic:.4f}\")\n",
    "print(f\"p-valor: {p_valor:.4f}\")\n",
    "\n",
    "def conclusion(alpha):\n",
    "    if p_value < alpha:\n",
    "        return \"Rejeitamos H0: A bateria do novo telefone dura mais de 10 horas.\"\n",
    "    else:\n",
    "        return \"Não rejeitamos H0: Não há evidências suficientes para concluir que a bateria dura mais de 10 horas.\"\n",
    "\n",
    "alpha = 0.05\n",
    "print(conclusion(alpha))"
   ]
  },
  {
   "cell_type": "markdown",
   "id": "4a96050c-f3f4-4a1d-94fb-231debe8bc49",
   "metadata": {},
   "source": [
    "### c. Com um nível de significância de 5%, qual é a conclusão do teste?\n",
    "#### Como o p-valor (0.0116) é menor que o nível de significância (0,05), rejeitamos a hipótese nula.)."
   ]
  },
  {
   "cell_type": "markdown",
   "id": "6c4017e8-443b-41f5-bb5a-6633145ab3dd",
   "metadata": {},
   "source": [
    "## 3. Um estudo recente da Allstate Insurance Co. descobriu que 82% dosadolescentes americanos usam celulares enquanto dirigem. Em 2010, o estado de Massachusetts promulgou uma lei que proíbe o uso de telefone \n",
    "celular por motoristas menores de 18 anos. Um analista gostaria d \r\n",
    "determinar se a lei diminuiu a proporção de motoristas com menos de  8\r\n",
    "anos que usam celular enquanto dirigem. "
   ]
  },
  {
   "cell_type": "markdown",
   "id": "8a54cedb-84e0-4a06-ac05-03a44087933b",
   "metadata": {},
   "source": [
    "### a. Especifique as hipóteses nula e alternativa.\n",
    "#### Hipótese Nula (H₀): A proporção de adolescentes que usam celular enquanto dirigem em Massachusetts é igual à proporção nacional (82% ou 0,82). (p = 0,82)\n",
    "#### Hipótese Alternativa (H₁): A proporção de adolescentes que usam celular enquanto dirigem em Massachusetts é menor que a proporção nacional. (p < 0,82)"
   ]
  },
  {
   "cell_type": "markdown",
   "id": "a63c1cdb-4c88-440f-8871-b830bdab7ff1",
   "metadata": {},
   "source": [
    "### b. Suponha que uma amostra de 200 motoristas com menos de 18 anos \n",
    "resulte em 150 que ainda usam celular enquanto dirigem. Calcule  \r\n",
    "Estatística de teste e o p-valor. Faça as validações necessárias pa a\r\n",
    "utilizar o te.ste"
   ]
  },
  {
   "cell_type": "code",
   "execution_count": 11,
   "id": "66ce3052-018a-4bd5-b6a7-1713bbd49af8",
   "metadata": {},
   "outputs": [
    {
     "name": "stdout",
     "output_type": "stream",
     "text": [
      "Estatística de teste (z): -2.5767\n",
      "p-valor: 0.00499\n",
      "Rejeitamos H0\n"
     ]
    }
   ],
   "source": [
    "n = 200  \n",
    "x = 150  \n",
    "p_a = x / n  \n",
    "p0 = 0.82  \n",
    "alpha = 0.05  \n",
    "\n",
    "z_statistic = (p_a - p0) / np.sqrt((p0 * (1 - p0)) / n)\n",
    "\n",
    "p_value = stats.norm.cdf(z_statistic)\n",
    "\n",
    "print(f\"Estatística de teste (z): {z_statistic:.4f}\")\n",
    "print(f\"p-valor: {p_value:.5f}\")\n",
    "print(\"Rejeitamos H0\" if p_value < alpha else \"Não rejeitamos H0\")"
   ]
  },
  {
   "cell_type": "markdown",
   "id": "75bdc4c9-b53e-415d-98f4-590044b85732",
   "metadata": {},
   "source": [
    "### c. Com α = 0,05, a lei foi eficaz?\n",
    "#### Como o p-valor (0,0049) é menor que o nível de significância (0,05), rejeitamos a hipótese nula."
   ]
  },
  {
   "cell_type": "markdown",
   "id": "5d71f436-9d67-425f-a4f8-9aded5405667",
   "metadata": {},
   "source": [
    "## 4. A vida média de uma amostra de 100 lâmpadas de certa marca é de 1.598 horas aproximadamente. Por similaridade com outros processos de fabricação, sabe-se que o desvio padrão é igual a 120 Horas. Desejamos testar se a duração média de todas as lâmpadas dessa marca é diferente de 1.600 horas."
   ]
  },
  {
   "cell_type": "markdown",
   "id": "869cbe40-c5db-46fd-b5b0-2b1696eb6633",
   "metadata": {},
   "source": [
    "### a. Especifique as hipóteses nula e alternativa apropriadas. Faça as validações necessárias para utilizar o teste.\n",
    "#### Hipótese Nula (H₀): A duração média das lâmpadas é igual a 1600 horas (μ = 1600).\n",
    "#### Hipótese Alternativa (H₁): A duração média das lâmpadas é diferente de 1600 horas (μ ≠ 1600)."
   ]
  },
  {
   "cell_type": "markdown",
   "id": "8afb3f25-cad2-4ea3-bc7a-55951c8b26fb",
   "metadata": {},
   "source": [
    "#### b. Calcule a Estatística de teste e o p-valor"
   ]
  },
  {
   "cell_type": "code",
   "execution_count": 15,
   "id": "b4f67bd4-7dbc-4d8a-8004-43046ad49a38",
   "metadata": {},
   "outputs": [
    {
     "name": "stdout",
     "output_type": "stream",
     "text": [
      "Estatística z: -0.1943\n",
      "p-valor: 0.8459\n"
     ]
    }
   ],
   "source": [
    "amostra = [1647.59, 1687.1, 1673.78, 1473.45, 1416.26, 1650.44, 1584.19,\n",
    "1598.89, 1563.98, 1519.6, 1424.55, 1674.44, 1619.96, 1560.52, 1486.71, 1545.91,\n",
    "1910.67, 1741.09, 1532.24, 1593.26, 1663.64, 1576.65, 1445.8, 1534.2, 1568.34,\n",
    "1524.93, 1578.27, 1760.9, 1572.98, 1629.74, 1773.92, 1580.99, 1569.87, 1469.23,\n",
    "1487.92, 1720.54, 1631.08, 1460.43, 1555.71, 1723.44, 1568.48, 1543.65, 1543.78,\n",
    "1609.93, 1599.63, 1709.23, 1434.94, 1669.04, 1388.75, 1501.29, 1623.75, 1542.41,\n",
    "1617.93, 1861.44, 1557.13, 1432.54, 1766.31, 1678.37, 1463.46, 1647.16, 1611.37,\n",
    "1537.3, 1617.04, 1630.58, 1618.38, 1575.04, 1774.63, 1739.11, 1693.14, 1714.35,\n",
    "1698.93, 1572, 1532.64, 1418.22, 1567.97, 1470.45, 1563.12, 1639.74, 1766.52,\n",
    "1672.85, 1534.74, 1375.84, 1601.11, 1650.86, 1749.66, 1630.23, 1546.1, 1697.13,\n",
    "1600.64, 1646.69, 1654.1, 1666.44, 1633.33, 1490.66, 1551.56, 1434.63, 1472.35,\n",
    "1734.77, 1586.06, 1604.09]\n",
    "\n",
    "media_amostral = np.mean(amostra)\n",
    "desvio_padrao_populacional = 120\n",
    "tamanho_amostra = len(amostra)\n",
    "media_populacional_hipotetica = 1600\n",
    "\n",
    "z = (media_amostral - media_populacional_hipotetica) / (desvio_padrao_populacional / np.sqrt(tamanho_amostra))\n",
    "\n",
    "p_valor = 2 * (1 - stats.norm.cdf(abs(z))) \n",
    "\n",
    "print(f\"Estatística z: {z:.4f}\")\n",
    "print(f\"p-valor: {p_valor:.4f}\")"
   ]
  },
  {
   "cell_type": "markdown",
   "id": "f0a519a6-68d6-47f5-8160-f8d6174f216e",
   "metadata": {},
   "source": [
    "### c. Com um nível de significância de 5%, qual é a conclusão do teste?\n",
    "#### Como o p-valor (0,8459) é muito maior que o nível de significância (0,05), não rejeitamos a hipótese nula."
   ]
  },
  {
   "cell_type": "markdown",
   "id": "2cf88da5-c813-4b66-aa4f-aed2b7dcd34a",
   "metadata": {},
   "source": [
    "## 5. O mundo industrial compartilha um objetivo comum: melhorar a qualidade pela redução da variação. Os engenheiros de controle da qualidade desejam garantir que um produto tem uma média aceitável, mas desejam também, produzir itens de qualidade consistente, de modo que existirão menos defeitos. Uma empresa tem produzido latas de refrigerante com quantidades que têm desvio padrão de 0,051. Uma nova máquina de engarrafamento que foi construída com o objetivo de melhorar ainda mais o processo(ou seja, reduzir ainda mais a variabilidade) é testada, e uma amostra aleatória simples de 24 latas resulta nas quantidades listadas abaixo."
   ]
  },
  {
   "cell_type": "markdown",
   "id": "8b8e7f13-9cbb-4632-a052-bdbc8e8c7b56",
   "metadata": {},
   "source": [
    "### a. Especifique as hipóteses nula e alternativa apropriadas e faça o teste \n",
    "de hipótes\n",
    "#### Hipótese Nula (H₀): O desvio padrão da nova máquina é igual ao desvio padrão da máquina antiga (σ >= 0,051).\n",
    "#### Hipótese Alternativa (H₁): O desvio padrão da nova máquina é menor que o desvio padrão da máquina antiga (σ < 0,051).e"
   ]
  },
  {
   "cell_type": "markdown",
   "id": "18f68590-aa42-499b-98cd-dfeb97dc0554",
   "metadata": {},
   "source": [
    "### b. Faça as validações necessárias para utilizar o teste."
   ]
  },
  {
   "cell_type": "code",
   "execution_count": 22,
   "id": "69ac7677-f470-45da-bc78-915096e2d24a",
   "metadata": {},
   "outputs": [
    {
     "name": "stdout",
     "output_type": "stream",
     "text": [
      "Estatística Qui-Quadrado: 13.6470\n",
      "p-valor: 0.0635\n"
     ]
    }
   ],
   "source": [
    "amostra = [11.98, 11.98, 11.99, 11.98, 11.90, 12.02, 11.99, 11.93,\n",
    "           12.02, 12.02, 12.02, 11.98, 12.01, 12.00, 11.99, 11.95,\n",
    "           11.95, 11.96, 11.96, 12.02, 11.99, 12.07, 11.93, 12.05]\n",
    "\n",
    "n = len(amostra)\n",
    "variancia_amostral = np.var(amostra, ddof=1) \n",
    "desvio_padrao_antigo = 0.051\n",
    "variancia_antiga = desvio_padrao_antigo**2\n",
    "\n",
    "chi2_statistic = (n - 1) * variancia_amostral / variancia_antiga\n",
    "\n",
    "p_valor = stats.chi2.cdf(chi2_statistic, df=n - 1)\n",
    "\n",
    "print(f\"Estatística Qui-Quadrado: {chi2_statistic:.4f}\")\n",
    "print(f\"p-valor: {p_valor:.4f}\")"
   ]
  },
  {
   "cell_type": "markdown",
   "id": "a6bf79cd-e599-4005-a1d9-d3e0a0b5c482",
   "metadata": {},
   "source": [
    "### c. Com um nível de significância de 5%, qual é a conclusão do teste?\n",
    "#### Como o p-valor (0,0635) é muito maior que o nível de significância (0,05), não rejeitamos a hipótese nula."
   ]
  },
  {
   "cell_type": "markdown",
   "id": "ab35fa96-2f3f-47e8-936b-c43f96aec574",
   "metadata": {},
   "source": [
    "## 6. Entre 2200 passageiros de carro do sexo masculino com a idade acima de 8 anos, 72% usam cinto de segurança, entre 2380 passageiros de carro do sexo feminino com idade acima de 8 anos, 84% usam cinto de segurança. Use o nível de significância de 5%, para testar a afirmativa que ambos os sexos têm a mesma taxa no uso de cinto de segurança. Com base no resultado parece haver uma diferença entre os sexos? Não se esqueça de escrever as hipóteses do teste."
   ]
  },
  {
   "cell_type": "code",
   "execution_count": 30,
   "id": "d2841e20-4752-45e2-ace9-336a9e7b98fe",
   "metadata": {},
   "outputs": [
    {
     "name": "stdout",
     "output_type": "stream",
     "text": [
      "Estatística z: -9.8327\n",
      "p-valor: 0.0000\n",
      "Rejeita a hipótese nula\n"
     ]
    }
   ],
   "source": [
    "n1 = 2200\n",
    "x1 = 0.72 * n1\n",
    "p1_hat = 0.72\n",
    "\n",
    "n2 = 2380\n",
    "x2 = 0.84 * n2\n",
    "p2_hat = 0.84\n",
    "\n",
    "p_hat = (x1 + x2) / (n1 + n2)\n",
    "\n",
    "z = (p1_hat - p2_hat) / np.sqrt(p_hat * (1 - p_hat) * (1/n1 + 1/n2))\n",
    "\n",
    "p_valor = 2 * (1 - stats.norm.cdf(abs(z)))\n",
    "\n",
    "alpha = 0.05\n",
    "\n",
    "resultado = \"Rejeita a hipótese nula\" if p_valor < alpha else \"Não rejeita a hipótese nula\"\n",
    "\n",
    "print(f\"Estatística z: {z:.4f}\")\n",
    "print(f\"p-valor: {p_valor:.4f}\")\n",
    "print(resultado)"
   ]
  },
  {
   "cell_type": "markdown",
   "id": "a48510a7-7bc7-4d17-81c2-4726db21ac3b",
   "metadata": {},
   "source": [
    "## 7. Uma distribuidora de combustível deseja verificar se um novo tipo de gasolina \n",
    "é eficaz na revitalização de motores velhos. Com esse objetivo, seleciona 1 \r\n",
    "automóveis de um mesmo modelo com mais de 8 anos de uso, e ap s\r\n",
    "regular os motores, verifica o consumo de combustível. Em seguida, os\r\n",
    "carros são abastecidos com o novo tipo de combustível durante 15 sema as,\r\n",
    "e uma nova aferição do consumo é feita. Considere as medições da t bela\r\n",
    "abaixo, escreva as hipóteses e verifique através de um teste de hipótes  se o\r\n",
    "rendimento médio é de fato superior para esse novo combustível ao n vel de\r\n",
    "5% de signifcância. "
   ]
  },
  {
   "cell_type": "code",
   "execution_count": 32,
   "id": "4f87541b-f4f3-4e76-93f4-a860c31d6b31",
   "metadata": {},
   "outputs": [
    {
     "name": "stdout",
     "output_type": "stream",
     "text": [
      "Teste de Shapiro-Wilk: Estatística = 0.9397, p-valor = 0.4946\n",
      "Média das diferenças: 2.9417\n",
      "Desvio padrão das diferenças: 1.5582\n",
      "Estatística t: 6.5396\n",
      "p-valor: 0.0000\n",
      "Rejeita a hipótese nula\n"
     ]
    }
   ],
   "source": [
    "consumo_antes = np.array([8.1, 7.9, 6.8, 7.8, 7.6, 7.9, 5.7, 8.4, 8.0, 9.5, 8.0, 6.8])\n",
    "consumo_depois = np.array([11.6, 8.8, 9.9, 9.5, 11.6, 9.1, 10.6, 10.8, 13.4, 10.6, 10.5, 11.4])\n",
    "\n",
    "diferencas = consumo_depois - consumo_antes\n",
    "\n",
    "media_diferencas = np.mean(diferencas)\n",
    "desvio_padrao_diferencas = np.std(diferencas, ddof=1) \n",
    "n = len(diferencas)\n",
    "\n",
    "shapiro_test = stats.shapiro(diferencas)\n",
    "print(f\"Teste de Shapiro-Wilk: Estatística = {shapiro_test.statistic:.4f}, p-valor = {shapiro_test.pvalue:.4f}\")\n",
    "\n",
    "t_statistic = media_diferencas / (desvio_padrao_diferencas / np.sqrt(n))\n",
    "\n",
    "p_valor = 1 - stats.t.cdf(t_statistic, df=n - 1)\n",
    "\n",
    "alpha = 0.05\n",
    "\n",
    "resultado = \"Rejeita a hipótese nula\" if p_valor < alpha else \"Não rejeita a hipótese nula\"\n",
    "\n",
    "print(f\"Média das diferenças: {media_diferencas:.4f}\")\n",
    "print(f\"Desvio padrão das diferenças: {desvio_padrao_diferencas:.4f}\")\n",
    "print(f\"Estatística t: {t_statistic:.4f}\")\n",
    "print(f\"p-valor: {p_valor:.4f}\")\n",
    "print(resultado)"
   ]
  },
  {
   "cell_type": "markdown",
   "id": "67520bc2-e784-44b3-970f-d1f180706369",
   "metadata": {},
   "source": [
    "## 8. Digitadores são treinados em uma empresa em duas turmas distintas. Na primeira, denominada turma J, utiliza-se o método japonês de ensino, na segunda turma, denominada turma A, utiliza-se um método alemão. Deseja-se comparar os dois métodos e para tanto, 16 alunos de cada turma foram escolhidos aleatoriamente e uma mesma tarefa foi atribuída a cada um. Ao final do experimento, o tempo gasto na realização da tarefa, para cada aluno foi anotado. No processo, dois computadores utilizados por alunos da turma J e três da turma A, apresentaram problemas que impediram a realização da tarefa, por isso o tamanho da amostra foi reduzido. Apesar de não conhecidas, as variâncias populacionais para as duas turmas são consideradas iguais com base em estudos anteriores. Ao nível de 5%, teste a hipótese para checar se existe diferença significativa no tempo médio de realização da tarefa para as duas turmas. (Sabe-se, que o tempo médio para realização das tarefas tem distribuição normal.) Os dados obtidos foram"
   ]
  },
  {
   "cell_type": "code",
   "execution_count": 39,
   "id": "48a6e504-d678-41db-a12a-24655468475c",
   "metadata": {},
   "outputs": [
    {
     "name": "stdout",
     "output_type": "stream",
     "text": [
      "Estatística t: -4.7965\n",
      "p-valor: 0.0001\n",
      "Rejeita a hipótese nula\n"
     ]
    }
   ],
   "source": [
    "import numpy as np\n",
    "from scipy import stats\n",
    "\n",
    "turma_j = [10, 13, 9, 10, 14, 13, 10, 15, 12, 10, 9, 10, 13, 14]\n",
    "turma_a = [15, 12, 18, 16, 15, 17, 17, 15, 16, 17, 11, 17, 14]\n",
    "\n",
    "n_j = len(turma_j)\n",
    "n_a = len(turma_a)\n",
    "\n",
    "media_j = np.mean(turma_j)\n",
    "media_a = np.mean(turma_a)\n",
    "\n",
    "var_j = np.var(turma_j, ddof=1) \n",
    "var_a = np.var(turma_a, ddof=1) \n",
    "\n",
    "sp2 = ((n_j - 1) * var_j + (n_a - 1) * var_a) / (n_j + n_a - 2)\n",
    "t = (media_j - media_a) / np.sqrt(sp2 * (1/n_j + 1/n_a))\n",
    "\n",
    "p_valor = 2 * (1 - stats.t.cdf(abs(t), df=n_j + n_a - 2))\n",
    "\n",
    "alpha = 0.05\n",
    "\n",
    "resultado = \"Rejeita a hipótese nula\" if p_valor < alpha else \"Não rejeita a hipótese nula\"\n",
    "\n",
    "print(f\"Estatística t: {t:.4f}\")\n",
    "print(f\"p-valor: {p_valor:.4f}\")\n",
    "print(resultado)"
   ]
  },
  {
   "cell_type": "markdown",
   "id": "a1266893-8baa-4505-ae78-1d4a708e1743",
   "metadata": {},
   "source": [
    "## 9. Queremos verificar o efeito do tipo de impermeabilização em lajes de \n",
    "concreto. As quantidades de água que passaram pela laje, em cada tipo d \r\n",
    "concreto, foram medidas obtendo-se os valores da tabela abaix Teste ao nível de 5% de significância a impermeabilidade média dos tipos de \n",
    "concreto. Escreva as hipóteses do teste e valide as suposições necessárias \r\n",
    "Qual a conclusão podemos obter?o.\r"
   ]
  },
  {
   "cell_type": "code",
   "execution_count": 45,
   "id": "539bf6be-cf89-43cb-857b-de5e5b193eb5",
   "metadata": {},
   "outputs": [
    {
     "name": "stdout",
     "output_type": "stream",
     "text": [
      "\n",
      "Estatística F: 29.79002624671912\n",
      "p-valor: 8.775405934817607e-07\n",
      "Rejeita a hipótese nula\n"
     ]
    }
   ],
   "source": [
    "tipo_i = np.array([56, 55, 62, 59, 60])\n",
    "tipo_ii = np.array([64, 61, 50, 55, 56])\n",
    "tipo_iii = np.array([45, 46, 45, 39, 43])\n",
    "tipo_iv = np.array([42, 39, 45, 43, 41])\n",
    "\n",
    "f_statistic, p_valor = stats.f_oneway(tipo_i, tipo_ii, tipo_iii, tipo_iv)\n",
    "\n",
    "alpha = 0.05\n",
    "\n",
    "resultado = \"Rejeita a hipótese nula\" if p_valor < alpha else \"Não rejeita a hipótese nula\"\n",
    "\n",
    "print(f\"\\nEstatística F: {f_statistic}\")\n",
    "print(f\"p-valor: {p_valor}\")\n",
    "print(resultado)"
   ]
  },
  {
   "cell_type": "markdown",
   "id": "4ab0573d-a897-4a28-9292-460196eb0871",
   "metadata": {},
   "source": [
    "## 10. Um órgão educacional do governo decidiu comparar o desempenho de notas \n",
    "obtidas por estudantes de escola particular e pública, a suposição é de qu \r\n",
    "as notas de escola pública são menores que as notas obtidas por estudant s\r\n",
    "de escolas particulares. Para testar essa hipótese, foram selecionadas d as\r\n",
    "mostras de estudantes que prestaram vestibular, suas médias gerais f ram\r\n",
    "categorizadas em 4 grupos e portanto obteve-se os dados a. Teste a hipótese que as duas populações são homogêneas, para o nível de \n",
    "significância de 1%.baixo"
   ]
  },
  {
   "cell_type": "code",
   "execution_count": 48,
   "id": "4e51e775-0561-42d9-ac7e-83c045be7dd6",
   "metadata": {},
   "outputs": [
    {
     "name": "stdout",
     "output_type": "stream",
     "text": [
      "Estatística Qui-Quadrado: 7.0837500154326705\n",
      "Graus de liberdade: 3\n",
      "p-valor: 0.06927574363872058\n",
      "Não rejeita a hipótese nula\n"
     ]
    }
   ],
   "source": [
    "observado = np.array([[15, 22, 18, 3], [6, 10, 20, 6]])\n",
    "esperado = np.array([[12.18, 18.56, 22.04, 5.22], [8.82, 13.44, 15.96, 3.78]])\n",
    "\n",
    "chi2_statistic = np.sum((observado - esperado)**2 / esperado)\n",
    "\n",
    "graus_liberdade = (observado.shape[0] - 1) * (observado.shape[1] - 1)\n",
    "\n",
    "p_valor = 1 - stats.chi2.cdf(chi2_statistic, graus_liberdade)\n",
    "\n",
    "alpha = 0.01\n",
    "\n",
    "resultado = \"Rejeita a hipótese nula\" if p_valor < alpha else \"Não rejeita a hipótese nula\"\n",
    "\n",
    "print(f\"Estatística Qui-Quadrado: {chi2_statistic}\")\n",
    "print(f\"Graus de liberdade: {graus_liberdade}\")\n",
    "print(f\"p-valor: {p_valor}\")\n",
    "print(resultado)"
   ]
  }
 ],
 "metadata": {
  "kernelspec": {
   "display_name": "Python 3 (ipykernel)",
   "language": "python",
   "name": "python3"
  },
  "language_info": {
   "codemirror_mode": {
    "name": "ipython",
    "version": 3
   },
   "file_extension": ".py",
   "mimetype": "text/x-python",
   "name": "python",
   "nbconvert_exporter": "python",
   "pygments_lexer": "ipython3",
   "version": "3.11.7"
  }
 },
 "nbformat": 4,
 "nbformat_minor": 5
}
